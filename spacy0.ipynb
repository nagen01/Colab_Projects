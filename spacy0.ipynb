{
  "nbformat": 4,
  "nbformat_minor": 0,
  "metadata": {
    "colab": {
      "name": "spacy0.ipynb",
      "provenance": [],
      "include_colab_link": true
    },
    "kernelspec": {
      "name": "python3",
      "display_name": "Python 3"
    }
  },
  "cells": [
    {
      "cell_type": "markdown",
      "metadata": {
        "id": "view-in-github",
        "colab_type": "text"
      },
      "source": [
        "<a href=\"https://colab.research.google.com/github/nagen01/Colab_Projects/blob/master/spacy0.ipynb\" target=\"_parent\"><img src=\"https://colab.research.google.com/assets/colab-badge.svg\" alt=\"Open In Colab\"/></a>"
      ]
    },
    {
      "cell_type": "code",
      "metadata": {
        "id": "t20hD-pGgnZW",
        "colab_type": "code",
        "colab": {}
      },
      "source": [
        "import spacy"
      ],
      "execution_count": 0,
      "outputs": []
    },
    {
      "cell_type": "code",
      "metadata": {
        "id": "-HVOubkOgpb0",
        "colab_type": "code",
        "colab": {}
      },
      "source": [
        "from spacy import displacy"
      ],
      "execution_count": 0,
      "outputs": []
    },
    {
      "cell_type": "code",
      "metadata": {
        "id": "j77GvZoxgt8g",
        "colab_type": "code",
        "colab": {}
      },
      "source": [
        "nlp = spacy.load('en_core_web_sm')"
      ],
      "execution_count": 0,
      "outputs": []
    },
    {
      "cell_type": "code",
      "metadata": {
        "id": "CvqtyRqag6Ym",
        "colab_type": "code",
        "colab": {}
      },
      "source": [
        "doc = nlp(u'I love running, I always take participate in a run competetion as a runner')"
      ],
      "execution_count": 0,
      "outputs": []
    },
    {
      "cell_type": "code",
      "metadata": {
        "id": "qXBgBTdyha4W",
        "colab_type": "code",
        "outputId": "c09899b2-bf10-4a97-f78c-1272a6a5df0e",
        "colab": {
          "base_uri": "https://localhost:8080/",
          "height": 272
        }
      },
      "source": [
        "for t in doc:\n",
        "  print(t.text,'\\t',t.pos_,'\\t',t.lemma,'\\t',t.lemma_)"
      ],
      "execution_count": 0,
      "outputs": [
        {
          "output_type": "stream",
          "text": [
            "I \t PRON \t 561228191312463089 \t -PRON-\n",
            "love \t VERB \t 3702023516439754181 \t love\n",
            "running \t VERB \t 12767647472892411841 \t run\n",
            ", \t PUNCT \t 2593208677638477497 \t ,\n",
            "I \t PRON \t 561228191312463089 \t -PRON-\n",
            "always \t ADV \t 17471638809377599778 \t always\n",
            "take \t VERB \t 6789454535283781228 \t take\n",
            "participate \t NOUN \t 4176336786957309062 \t participate\n",
            "in \t ADP \t 3002984154512732771 \t in\n",
            "a \t DET \t 11901859001352538922 \t a\n",
            "run \t NOUN \t 12767647472892411841 \t run\n",
            "competetion \t NOUN \t 6461106036050193899 \t competetion\n",
            "as \t ADP \t 7437575085468336610 \t as\n",
            "a \t DET \t 11901859001352538922 \t a\n",
            "runner \t NOUN \t 12640964157389618806 \t runner\n"
          ],
          "name": "stdout"
        }
      ]
    },
    {
      "cell_type": "markdown",
      "metadata": {
        "id": "pK_uG4Nj3DWt",
        "colab_type": "text"
      },
      "source": [
        "# New Section"
      ]
    },
    {
      "cell_type": "code",
      "metadata": {
        "id": "WvMzqKxYho8G",
        "colab_type": "code",
        "colab": {}
      },
      "source": [
        "def show_lemma(text):\n",
        "  for token in text:\n",
        "    print(f'{token.text:{12}} {token.pos_:{10}} {token.lemma:<{22}} {token.lemma_:{10}}')"
      ],
      "execution_count": 0,
      "outputs": []
    },
    {
      "cell_type": "code",
      "metadata": {
        "id": "7TcPR0hsi2VF",
        "colab_type": "code",
        "outputId": "89050683-9e35-4663-eb2e-0f7212db0027",
        "colab": {
          "base_uri": "https://localhost:8080/",
          "height": 272
        }
      },
      "source": [
        "show_lemma(doc)"
      ],
      "execution_count": 0,
      "outputs": [
        {
          "output_type": "stream",
          "text": [
            "I            PRON       561228191312463089     -PRON-    \n",
            "love         VERB       3702023516439754181    love      \n",
            "running      VERB       12767647472892411841   run       \n",
            ",            PUNCT      2593208677638477497    ,         \n",
            "I            PRON       561228191312463089     -PRON-    \n",
            "always       ADV        17471638809377599778   always    \n",
            "take         VERB       6789454535283781228    take      \n",
            "participate  NOUN       4176336786957309062    participate\n",
            "in           ADP        3002984154512732771    in        \n",
            "a            DET        11901859001352538922   a         \n",
            "run          NOUN       12767647472892411841   run       \n",
            "competetion  NOUN       6461106036050193899    competetion\n",
            "as           ADP        7437575085468336610    as        \n",
            "a            DET        11901859001352538922   a         \n",
            "runner       NOUN       12640964157389618806   runner    \n"
          ],
          "name": "stdout"
        }
      ]
    },
    {
      "cell_type": "code",
      "metadata": {
        "id": "Nw8Oe-WsjEx-",
        "colab_type": "code",
        "outputId": "3beaeaa3-88ee-4ae3-bad8-1ae31d5a96ea",
        "colab": {
          "base_uri": "https://localhost:8080/",
          "height": 54
        }
      },
      "source": [
        "print(nlp.Defaults.stop_words)"
      ],
      "execution_count": 0,
      "outputs": [
        {
          "output_type": "stream",
          "text": [
            "{'afterwards', 'though', 'in', 'anyhow', 'even', 'alone', 'whom', 'more', 'everything', 'or', 'besides', 'show', 'them', 'this', 'becoming', 'former', 'toward', '’re', 'fifty', 'behind', 'themselves', 'on', 'sometime', 'now', 'five', 'itself', 'least', 'here', 'from', 'well', 'below', 'nothing', 'top', 'for', 'due', 'take', 'if', 'anything', 'without', 'above', 'say', 'put', 'his', 'often', 'wherein', 'bottom', 'back', 'else', 'except', 'hers', 'somehow', 'but', 'such', 'within', 'few', \"n't\", 'could', 'whereas', \"'s\", 'same', 'under', 'perhaps', 'are', 'eleven', 'what', 'should', 'various', 'cannot', 'after', 'everywhere', 'beyond', 'once', 'via', 'ourselves', '’s', 'somewhere', 'throughout', 'sixty', 'either', 'further', 'their', 'any', 'up', 'upon', 'whole', \"'ll\", 'whose', 'also', 'how', 'our', 'side', 'too', 'whoever', 'seem', 'being', 'than', 'him', '‘ve', 'just', 'has', 'four', 'he', 'sometimes', 'a', 'whereby', 'she', 'used', 'when', 'seeming', 'eight', 'amongst', 'amount', 'someone', 'two', 'nowhere', 'another', 'became', 'doing', 'out', 'therefore', 'be', 'thru', 'will', 'some', 'next', \"'m\", 'and', 'nobody', 'those', 'anywhere', 'myself', 'rather', 'ca', 'each', 'six', 'thence', 'less', 'yours', 'have', 'first', 'neither', 'noone', \"'re\", 'formerly', 'had', 'must', 'anyone', 'go', 'can', 'done', 'regarding', 'make', 'as', 'hereupon', 'meanwhile', 'before', 'indeed', 'every', 'might', 'namely', 'ever', 'becomes', 'around', 'these', 'yourselves', 'part', '‘m', 'herself', 'they', 'through', 'with', 'again', 'anyway', 'many', 'seemed', 'everyone', 'her', 'ten', 'were', 'you', 'most', 'otherwise', 'please', 'already', 'does', 'at', 'per', 'front', 'while', '‘ll', 'both', 'only', 'am', 'to', 'do', 'down', 'however', 'n‘t', \"'ve\", 'several', 'by', 'thereupon', 'give', 'hundred', 'is', 'of', 'off', 'really', 'until', '’ve', 'himself', 'no', 'own', 'hereby', 'twenty', 'empty', 'name', 'nor', 'your', 'would', 'over', 'whatever', 'thereafter', 'other', 'keep', 'there', 'its', 'fifteen', 'mostly', 'almost', 'not', 'an', 'serious', 'wherever', 'enough', 'may', 'into', 'i', 'us', 'whence', '‘re', 'latter', 'whenever', 'along', 'third', 'although', 'where', 'then', '‘d', 'something', 'call', 'still', 'quite', 'it', 'get', '’d', 'none', 'seems', '’ll', 'my', 'three', 'beforehand', 'others', 'whether', 'me', 'latterly', 'ours', 'which', 'why', 'hence', 'n’t', 'so', 'among', 'last', 'together', 'move', 'unless', 'who', 'herein', 'whither', 'yet', 'nevertheless', 'about', 'beside', 'full', 'onto', 'thereby', 'made', 'the', 'therein', 'between', '’m', 'much', 'nine', 'we', '‘s', 'been', 'that', 'was', 'one', 'see', 'very', 'forty', \"'d\", 'twelve', 'hereafter', 'never', 'become', 'all', 'always', 'during', 'whereupon', 'moreover', 'against', 'because', 'using', 'across', 'mine', 'since', 'yourself', 'towards', 'elsewhere', 'whereafter', 're', 'did', 'thus'}\n"
          ],
          "name": "stdout"
        }
      ]
    },
    {
      "cell_type": "code",
      "metadata": {
        "id": "5teYpznfksvN",
        "colab_type": "code",
        "outputId": "16a0125d-1bec-426c-f864-bb101b84c5f1",
        "colab": {
          "base_uri": "https://localhost:8080/",
          "height": 34
        }
      },
      "source": [
        "len(nlp.Defaults.stop_words)"
      ],
      "execution_count": 0,
      "outputs": [
        {
          "output_type": "execute_result",
          "data": {
            "text/plain": [
              "326"
            ]
          },
          "metadata": {
            "tags": []
          },
          "execution_count": 16
        }
      ]
    },
    {
      "cell_type": "code",
      "metadata": {
        "id": "o7Mtkt-fk5H9",
        "colab_type": "code",
        "colab": {}
      },
      "source": [
        "nlp.Defaults.stop_words.add('Ram')"
      ],
      "execution_count": 0,
      "outputs": []
    },
    {
      "cell_type": "code",
      "metadata": {
        "id": "V1mDVSwylBoG",
        "colab_type": "code",
        "colab": {}
      },
      "source": [
        "nlp.vocab['Ram'].is_stop = True"
      ],
      "execution_count": 0,
      "outputs": []
    },
    {
      "cell_type": "code",
      "metadata": {
        "id": "ds4owSIilIwc",
        "colab_type": "code",
        "outputId": "8469d993-a6cd-4a13-b3d8-13132e6bde1f",
        "colab": {
          "base_uri": "https://localhost:8080/",
          "height": 34
        }
      },
      "source": [
        "len(nlp.Defaults.stop_words)"
      ],
      "execution_count": 0,
      "outputs": [
        {
          "output_type": "execute_result",
          "data": {
            "text/plain": [
              "327"
            ]
          },
          "metadata": {
            "tags": []
          },
          "execution_count": 23
        }
      ]
    },
    {
      "cell_type": "code",
      "metadata": {
        "id": "edtDaxPXlS4M",
        "colab_type": "code",
        "outputId": "e4740150-f957-4371-a834-47a0a0a591cc",
        "colab": {
          "base_uri": "https://localhost:8080/",
          "height": 34
        }
      },
      "source": [
        "nlp.vocab['Ram'].is_stop"
      ],
      "execution_count": 0,
      "outputs": [
        {
          "output_type": "execute_result",
          "data": {
            "text/plain": [
              "True"
            ]
          },
          "metadata": {
            "tags": []
          },
          "execution_count": 24
        }
      ]
    },
    {
      "cell_type": "code",
      "metadata": {
        "id": "FXC2igTdlZc0",
        "colab_type": "code",
        "colab": {}
      },
      "source": [
        "nlp.Defaults.stop_words.remove('though')"
      ],
      "execution_count": 0,
      "outputs": []
    },
    {
      "cell_type": "code",
      "metadata": {
        "id": "UKc41vnwlqOE",
        "colab_type": "code",
        "outputId": "813d37b5-05e2-49a3-98a5-4c1b6d49676a",
        "colab": {
          "base_uri": "https://localhost:8080/",
          "height": 34
        }
      },
      "source": [
        "len(nlp.Defaults.stop_words)"
      ],
      "execution_count": 0,
      "outputs": [
        {
          "output_type": "execute_result",
          "data": {
            "text/plain": [
              "326"
            ]
          },
          "metadata": {
            "tags": []
          },
          "execution_count": 27
        }
      ]
    },
    {
      "cell_type": "code",
      "metadata": {
        "id": "z1w8QC_Cl2P8",
        "colab_type": "code",
        "colab": {}
      },
      "source": [
        "nlp.vocab['though'].is_stop = False"
      ],
      "execution_count": 0,
      "outputs": []
    },
    {
      "cell_type": "code",
      "metadata": {
        "id": "fSfkMA2omBbl",
        "colab_type": "code",
        "outputId": "b03cd311-090b-4c82-f3e1-7e9a704f0fe0",
        "colab": {
          "base_uri": "https://localhost:8080/",
          "height": 54
        }
      },
      "source": [
        "print(nlp.Defaults.stop_words)"
      ],
      "execution_count": 0,
      "outputs": [
        {
          "output_type": "stream",
          "text": [
            "{'afterwards', 'in', 'anyhow', 'even', 'alone', 'whom', 'more', 'everything', 'or', 'besides', 'show', 'them', 'this', 'becoming', 'former', 'toward', '’re', 'fifty', 'behind', 'themselves', 'on', 'sometime', 'now', 'five', 'itself', 'least', 'here', 'from', 'well', 'below', 'nothing', 'top', 'for', 'due', 'take', 'if', 'anything', 'without', 'above', 'say', 'put', 'his', 'often', 'wherein', 'bottom', 'back', 'else', 'except', 'hers', 'somehow', 'but', 'such', 'within', 'few', \"n't\", 'could', 'whereas', \"'s\", 'same', 'Ram', 'under', 'perhaps', 'are', 'eleven', 'what', 'should', 'various', 'cannot', 'after', 'everywhere', 'beyond', 'once', 'via', 'ourselves', '’s', 'somewhere', 'throughout', 'sixty', 'either', 'further', 'their', 'any', 'up', 'upon', 'whole', \"'ll\", 'whose', 'also', 'how', 'our', 'side', 'too', 'whoever', 'seem', 'being', 'than', 'him', '‘ve', 'just', 'has', 'four', 'he', 'sometimes', 'a', 'whereby', 'she', 'used', 'when', 'seeming', 'eight', 'amongst', 'amount', 'someone', 'two', 'nowhere', 'another', 'became', 'doing', 'out', 'therefore', 'be', 'thru', 'will', 'some', 'next', \"'m\", 'and', 'nobody', 'those', 'anywhere', 'myself', 'rather', 'ca', 'each', 'six', 'thence', 'less', 'yours', 'have', 'first', 'neither', 'noone', \"'re\", 'formerly', 'had', 'must', 'anyone', 'go', 'can', 'done', 'regarding', 'make', 'as', 'hereupon', 'meanwhile', 'before', 'indeed', 'every', 'might', 'namely', 'ever', 'becomes', 'around', 'these', 'yourselves', 'part', '‘m', 'herself', 'they', 'through', 'with', 'again', 'anyway', 'many', 'seemed', 'everyone', 'her', 'ten', 'were', 'you', 'most', 'otherwise', 'please', 'already', 'does', 'at', 'per', 'front', 'while', '‘ll', 'both', 'only', 'am', 'to', 'do', 'down', 'however', 'n‘t', \"'ve\", 'several', 'by', 'thereupon', 'give', 'hundred', 'is', 'of', 'off', 'really', 'until', '’ve', 'himself', 'no', 'own', 'hereby', 'twenty', 'empty', 'name', 'nor', 'your', 'would', 'over', 'whatever', 'thereafter', 'other', 'keep', 'there', 'its', 'fifteen', 'mostly', 'almost', 'not', 'an', 'serious', 'wherever', 'enough', 'may', 'into', 'i', 'us', 'whence', '‘re', 'latter', 'whenever', 'along', 'third', 'although', 'where', 'then', '‘d', 'something', 'call', 'still', 'quite', 'it', 'get', '’d', 'none', 'seems', '’ll', 'my', 'three', 'beforehand', 'others', 'whether', 'me', 'latterly', 'ours', 'which', 'why', 'hence', 'n’t', 'so', 'among', 'last', 'together', 'move', 'unless', 'who', 'herein', 'whither', 'yet', 'nevertheless', 'about', 'beside', 'full', 'onto', 'thereby', 'made', 'the', 'therein', 'between', '’m', 'much', 'nine', 'we', '‘s', 'been', 'that', 'was', 'one', 'see', 'very', 'forty', \"'d\", 'twelve', 'hereafter', 'never', 'become', 'all', 'always', 'during', 'whereupon', 'moreover', 'against', 'because', 'using', 'across', 'mine', 'since', 'yourself', 'towards', 'elsewhere', 'whereafter', 're', 'did', 'thus'}\n"
          ],
          "name": "stdout"
        }
      ]
    },
    {
      "cell_type": "code",
      "metadata": {
        "id": "d0NmjGKMmL70",
        "colab_type": "code",
        "colab": {}
      },
      "source": [
        "#Matcher and vocabularies\n",
        "from spacy.matcher import Matcher"
      ],
      "execution_count": 0,
      "outputs": []
    },
    {
      "cell_type": "code",
      "metadata": {
        "id": "zX8ybgyVp-lr",
        "colab_type": "code",
        "colab": {}
      },
      "source": [
        "matcher = Matcher(nlp.vocab)"
      ],
      "execution_count": 0,
      "outputs": []
    },
    {
      "cell_type": "code",
      "metadata": {
        "id": "jI3AfxKXqCE7",
        "colab_type": "code",
        "colab": {}
      },
      "source": [
        "\n",
        "#solarpower\n",
        "pattern1 = [{'LOWER':'solarpower'}]\n",
        "#solar-power\n",
        "pattern2 = [{'LOWER':'solar'},{'is_punct':True},{'LOWER':'power'}]\n",
        "#solar power\n",
        "pattern3 = [{'LOWER':'solar'}, {'LOWER':'power'}]\n",
        "\n",
        "matcher.add('Solarpower', None, pattern1, pattern2, pattern3)"
      ],
      "execution_count": 0,
      "outputs": []
    },
    {
      "cell_type": "code",
      "metadata": {
        "id": "1Eed6YEvrlz7",
        "colab_type": "code",
        "colab": {}
      },
      "source": [
        "doc = nlp(u'The Solar Power industry continues to grow as demand \\\n",
        "for solarpower increases. Solar-power cars are gaining popularity.')"
      ],
      "execution_count": 0,
      "outputs": []
    },
    {
      "cell_type": "code",
      "metadata": {
        "id": "PgJZaRlzr1Ra",
        "colab_type": "code",
        "colab": {}
      },
      "source": [
        "found_matches = matcher(doc)"
      ],
      "execution_count": 0,
      "outputs": []
    },
    {
      "cell_type": "code",
      "metadata": {
        "id": "MQGkm8v-r_ua",
        "colab_type": "code",
        "outputId": "bd4ead39-41ce-4f50-8e41-5696b0113f55",
        "colab": {
          "base_uri": "https://localhost:8080/",
          "height": 34
        }
      },
      "source": [
        "print(found_matches)"
      ],
      "execution_count": 0,
      "outputs": [
        {
          "output_type": "stream",
          "text": [
            "[(6544436658971563323, 1, 3), (6544436658971563323, 10, 11), (6544436658971563323, 13, 16)]\n"
          ],
          "name": "stdout"
        }
      ]
    },
    {
      "cell_type": "code",
      "metadata": {
        "id": "5LIxGreIsUDz",
        "colab_type": "code",
        "outputId": "d2a8cf24-1ee7-45b3-e204-936ba86d976d",
        "colab": {
          "base_uri": "https://localhost:8080/",
          "height": 68
        }
      },
      "source": [
        "for match_id, start, end in found_matches:\n",
        "  string_id = nlp.vocab.strings[match_id]\n",
        "  span = doc[start:end]\n",
        "  print(match_id,string_id,start,end,span.text)\n",
        "  "
      ],
      "execution_count": 0,
      "outputs": [
        {
          "output_type": "stream",
          "text": [
            "6544436658971563323 Solarpower 1 3 Solar Power\n",
            "6544436658971563323 Solarpower 10 11 solarpower\n",
            "6544436658971563323 Solarpower 13 16 Solar-power\n"
          ],
          "name": "stdout"
        }
      ]
    },
    {
      "cell_type": "code",
      "metadata": {
        "id": "mTkVQiFWtZG6",
        "colab_type": "code",
        "colab": {}
      },
      "source": [
        "matcher.remove('Solarpower')"
      ],
      "execution_count": 0,
      "outputs": []
    },
    {
      "cell_type": "markdown",
      "metadata": {
        "id": "vqgXWyrayKg-",
        "colab_type": "text"
      },
      "source": [
        ""
      ]
    },
    {
      "cell_type": "code",
      "metadata": {
        "id": "0SBQQp12vQ8R",
        "colab_type": "code",
        "colab": {}
      },
      "source": [
        "#solarpower\n",
        "pattern1 = [{'LOWER':'solarpower'}]\n",
        "#solar--power\n",
        "pattern2 = [{'LOWER':'solar'},{'IS_PUNCH':True,'OP':'*'},{'LOWER':'power'}]\n",
        "\n",
        "matcher.add('SolarPower',None,pattern1,pattern2)"
      ],
      "execution_count": 0,
      "outputs": []
    },
    {
      "cell_type": "code",
      "metadata": {
        "id": "b0JZtpGkwRLZ",
        "colab_type": "code",
        "colab": {}
      },
      "source": [
        "doc = nlp(u'SolarPower is interesting, as Solar.........Power is gaining popularity')"
      ],
      "execution_count": 0,
      "outputs": []
    },
    {
      "cell_type": "code",
      "metadata": {
        "id": "OomTJa9GwfMo",
        "colab_type": "code",
        "outputId": "79dd2378-fd70-4c51-8c90-6845f651a96f",
        "colab": {
          "base_uri": "https://localhost:8080/",
          "height": 51
        }
      },
      "source": [
        "found_matches = matcher(doc)\n",
        "for match_id, start, end in found_matches:\n",
        "  string_id = nlp.vocab.strings[match_id]\n",
        "  span = doc[start:end]\n",
        "  print(match_id,string_id,start,end,span.text)"
      ],
      "execution_count": 0,
      "outputs": [
        {
          "output_type": "stream",
          "text": [
            "8656102463236116519 SolarPower 0 1 SolarPower\n",
            "8656102463236116519 SolarPower 5 8 Solar.........Power\n"
          ],
          "name": "stdout"
        }
      ]
    },
    {
      "cell_type": "code",
      "metadata": {
        "id": "c0KCSdtZw974",
        "colab_type": "code",
        "outputId": "a44d6f4f-7835-42d2-cfdd-722094d37ac3",
        "colab": {
          "base_uri": "https://localhost:8080/",
          "height": 34
        }
      },
      "source": [
        "print(matcher)"
      ],
      "execution_count": 0,
      "outputs": [
        {
          "output_type": "stream",
          "text": [
            "<spacy.matcher.matcher.Matcher object at 0x7f50e362da20>\n"
          ],
          "name": "stdout"
        }
      ]
    },
    {
      "cell_type": "code",
      "metadata": {
        "id": "_mLIkxiVxP95",
        "colab_type": "code",
        "colab": {}
      },
      "source": [
        ""
      ],
      "execution_count": 0,
      "outputs": []
    }
  ]
}