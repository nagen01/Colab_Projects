{
 "cells": [
  {
   "cell_type": "code",
   "execution_count": 89,
   "metadata": {},
   "outputs": [],
   "source": [
    "import spacy"
   ]
  },
  {
   "cell_type": "code",
   "execution_count": 90,
   "metadata": {},
   "outputs": [],
   "source": [
    "nlp = spacy.load('en_core_web_sm')"
   ]
  },
  {
   "cell_type": "code",
   "execution_count": 91,
   "metadata": {},
   "outputs": [
    {
     "data": {
      "text/plain": [
       "\"MORAZORA Big Size 34-46 2019 New Fashion high heels women pumps thin heel classic white red nude beige sexy ladies wedding shoes\\n \\nLuxury Woman Elegant Flats Solid Vintage Genuine Leather Sexy Pointed Toe Classic Low Heels Casual Office Lady Mules P16\\n \\nRELKA Classic Men Fashion Casual Shoes Luxury Flying Round Toe Comfortable Heel Shoes Mixed Color Soft Basic Sports Shoes P95\\n \\nMORAZORA Russia 2019 Genuine leather boots wool fur fashion knee high boots women warm wool boots round toe winter snow boots\\n \\nPet Dog Bed Warming Dog House Soft Material Nest Dog Baskets Fall and Winter Warm Kennel For Cat Puppy Plus size Drop shipping\\n \\nCeramic little monk Buddha Statues tea pet creative home furnishing articles small adornment home decor ornament landscape\\n \\n2018 New Motorcycle Pants Men Moto Jeans Protective Gear Riding Touring Motorbike Trousers Motocross Pants Pantalon Moto Pants\\n \\nWomen's Summer Print Jumpsuit Shorts Casual Loose Short Sleeve V-neck Jumpsuit 10 color\\n \\nNew 2019 Women Tshirt Batman Spiderman Iron Man Captain America Winter Soldier Marvel T Shirt Avengers Costume Comics Superhero\\n\""
      ]
     },
     "execution_count": 91,
     "metadata": {},
     "output_type": "execute_result"
    }
   ],
   "source": [
    "with open('noun_sep.txt','r') as f:\n",
    "    data = f.read()\n",
    "\n",
    "data"
   ]
  },
  {
   "cell_type": "code",
   "execution_count": 92,
   "metadata": {},
   "outputs": [],
   "source": [
    "doc = nlp(data)"
   ]
  },
  {
   "cell_type": "code",
   "execution_count": 93,
   "metadata": {},
   "outputs": [
    {
     "name": "stdout",
     "output_type": "stream",
     "text": [
      "MORAZORA Big Size 34-46 2019 New Fashion high heels\n",
      "women pumps thin heel classic white red nude beige sexy ladies wedding shoes\n",
      " \n",
      "\n",
      "Luxury Woman Elegant Flats Solid Vintage Genuine Leather Sexy Pointed Toe Classic Low Heels Casual Office Lady Mules P16\n",
      " \n",
      "\n",
      "RELKA Classic Men Fashion Casual Shoes Luxury\n",
      "Flying Round Toe Comfortable\n",
      "Heel Shoes Mixed Color\n",
      "Soft Basic Sports Shoes\n",
      "P95\n",
      " \n",
      "MORAZORA Russia\n",
      "2019 Genuine leather boots wool fur fashion knee high boots women\n",
      "warm wool boots round toe winter snow boots\n",
      " \n",
      "\n",
      "Pet\n",
      "Dog Bed Warming Dog House Soft Material Nest Dog Baskets Fall and Winter Warm Kennel\n",
      "For Cat Puppy Plus size Drop shipping\n",
      " \n",
      "\n",
      "Ceramic little monk Buddha Statues tea pet creative home furnishing articles small adornment home decor ornament landscape\n",
      " \n",
      "2018\n",
      "New Motorcycle Pants Men Moto Jeans\n",
      "Protective Gear Riding\n",
      "Touring Motorbike Trousers Motocross Pants Pantalon Moto Pants\n",
      " \n",
      "\n",
      "Women's Summer Print Jumpsuit Shorts Casual Loose Short Sleeve V-neck\n",
      "Jumpsuit 10 color\n",
      " \n",
      "\n",
      "New 2019\n",
      "Women Tshirt Batman Spiderman Iron Man Captain America Winter Soldier Marvel T Shirt Avengers\n",
      "Costume Comics Superhero\n",
      "\n"
     ]
    }
   ],
   "source": [
    "for sent in doc.sents:\n",
    "    print(sent)"
   ]
  },
  {
   "cell_type": "code",
   "execution_count": 81,
   "metadata": {},
   "outputs": [
    {
     "data": {
      "text/plain": [
       "['tagger', 'parser', 'ner']"
      ]
     },
     "execution_count": 81,
     "metadata": {},
     "output_type": "execute_result"
    }
   ],
   "source": [
    "nlp.pipe_names"
   ]
  },
  {
   "cell_type": "code",
   "execution_count": 82,
   "metadata": {},
   "outputs": [
    {
     "data": {
      "text/plain": [
       "['tagger', 'set_custom_rule', 'parser', 'ner']"
      ]
     },
     "execution_count": 82,
     "metadata": {},
     "output_type": "execute_result"
    }
   ],
   "source": [
    "def set_custom_rule(rec):\n",
    "    for token in rec[:-1]:\n",
    "        if token.pos_ == 'NOUN':\n",
    "            rec[token.i].is_sent_start = True\n",
    "    return rec\n",
    "nlp.add_pipe(set_custom_rule,before='parser')\n",
    "nlp.pipe_names"
   ]
  },
  {
   "cell_type": "code",
   "execution_count": 83,
   "metadata": {},
   "outputs": [
    {
     "name": "stdout",
     "output_type": "stream",
     "text": [
      "MORAZORA Big Size 34-46 2019 New Fashion high\n",
      "heels\n",
      "women pumps thin\n",
      "heel classic white red nude beige sexy\n",
      "ladies\n",
      "wedding\n",
      "shoes\n",
      " \n",
      "\n",
      "Luxury Woman Elegant Flats Solid Vintage Genuine Leather Sexy Pointed Toe Classic Low Heels Casual Office Lady Mules P16\n",
      " \n",
      "\n",
      "RELKA Classic Men Fashion Casual Shoes Luxury\n",
      "Flying Round Toe Comfortable Heel\n",
      "Shoes Mixed Color\n",
      "Soft Basic Sports Shoes\n",
      "P95\n",
      " \n",
      "MORAZORA Russia 2019 Genuine\n",
      "leather\n",
      "boots\n",
      "wool\n",
      "fur\n",
      "fashion\n",
      "knee high\n",
      "boots\n",
      "women warm\n",
      "wool\n",
      "boots round\n",
      "toe\n",
      "winter\n",
      "snow\n",
      "boots\n",
      " \n",
      "\n",
      "Pet\n",
      "Dog Bed Warming Dog House Soft Material Nest Dog\n",
      "Baskets Fall and Winter Warm Kennel\n",
      "For Cat Puppy Plus\n",
      "size Drop\n",
      "shipping\n",
      " \n",
      "Ceramic little\n",
      "monk Buddha Statues\n",
      "tea pet creative\n",
      "home furnishing\n",
      "articles small\n",
      "adornment\n",
      "home\n",
      "decor\n",
      "ornament\n",
      "landscape\n",
      " \n",
      "2018 New Motorcycle Pants Men Moto Jeans Protective Gear Riding\n",
      "Touring Motorbike Trousers Motocross Pants Pantalon Moto Pants\n",
      " \n",
      "\n",
      "Women's Summer Print Jumpsuit Shorts Casual Loose Short Sleeve\n",
      "V-\n",
      "neck Jumpsuit 10\n",
      "color\n",
      " \n",
      "\n",
      "New 2019\n",
      "Women Tshirt Batman Spiderman Iron Man Captain America Winter\n",
      "Soldier\n",
      "Marvel T Shirt Avengers Costume Comics Superhero\n",
      "\n"
     ]
    }
   ],
   "source": [
    "doc1 = nlp(data)\n",
    "for sent in doc1.sents:\n",
    "    print(sent)"
   ]
  },
  {
   "cell_type": "code",
   "execution_count": null,
   "metadata": {},
   "outputs": [],
   "source": []
  }
 ],
 "metadata": {
  "kernelspec": {
   "display_name": "Python 3",
   "language": "python",
   "name": "python3"
  },
  "language_info": {
   "codemirror_mode": {
    "name": "ipython",
    "version": 3
   },
   "file_extension": ".py",
   "mimetype": "text/x-python",
   "name": "python",
   "nbconvert_exporter": "python",
   "pygments_lexer": "ipython3",
   "version": "3.7.3"
  }
 },
 "nbformat": 4,
 "nbformat_minor": 2
}
