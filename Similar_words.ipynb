{
  "nbformat": 4,
  "nbformat_minor": 0,
  "metadata": {
    "colab": {
      "name": "Similar words",
      "provenance": [],
      "collapsed_sections": [],
      "include_colab_link": true
    },
    "kernelspec": {
      "name": "python3",
      "display_name": "Python 3"
    }
  },
  "cells": [
    {
      "cell_type": "markdown",
      "metadata": {
        "id": "view-in-github",
        "colab_type": "text"
      },
      "source": [
        "<a href=\"https://colab.research.google.com/github/nagen01/Colab_Projects/blob/master/Similar_words.ipynb\" target=\"_parent\"><img src=\"https://colab.research.google.com/assets/colab-badge.svg\" alt=\"Open In Colab\"/></a>"
      ]
    },
    {
      "cell_type": "code",
      "metadata": {
        "id": "NX2otCyamj41",
        "colab_type": "code",
        "colab": {}
      },
      "source": [
        "import nltk\n",
        "import urllib.request\n",
        "import bs4 as bs\n",
        "import re\n",
        "from gensim.models import Word2Vec"
      ],
      "execution_count": 0,
      "outputs": []
    },
    {
      "cell_type": "code",
      "metadata": {
        "id": "QEowkNnuvO75",
        "colab_type": "code",
        "colab": {}
      },
      "source": [
        "from nltk.corpus import stopwords"
      ],
      "execution_count": 0,
      "outputs": []
    },
    {
      "cell_type": "code",
      "metadata": {
        "id": "nEb711lMm3wz",
        "colab_type": "code",
        "colab": {}
      },
      "source": [
        "source = urllib.request.urlopen('https://en.wikipedia.org/wiki/Global_warming').read()"
      ],
      "execution_count": 0,
      "outputs": []
    },
    {
      "cell_type": "code",
      "metadata": {
        "id": "Vuzb4ZKJnZN1",
        "colab_type": "code",
        "colab": {}
      },
      "source": [
        "soup = bs.BeautifulSoup(source,'lxml')"
      ],
      "execution_count": 0,
      "outputs": []
    },
    {
      "cell_type": "markdown",
      "metadata": {
        "id": "RtKFH0LI9vGT",
        "colab_type": "text"
      },
      "source": [
        ""
      ]
    },
    {
      "cell_type": "markdown",
      "metadata": {
        "id": "mFPBgpBF9vhY",
        "colab_type": "text"
      },
      "source": [
        ""
      ]
    },
    {
      "cell_type": "code",
      "metadata": {
        "id": "E2I-Bz1anrvd",
        "colab_type": "code",
        "colab": {}
      },
      "source": [
        "text = \"\"\n",
        "for paragraph in soup.find_all('p'):\n",
        "  text += paragraph.text"
      ],
      "execution_count": 0,
      "outputs": []
    },
    {
      "cell_type": "markdown",
      "metadata": {
        "id": "M91QAhQ7t8mQ",
        "colab_type": "text"
      },
      "source": [
        ""
      ]
    },
    {
      "cell_type": "code",
      "metadata": {
        "id": "V_8SZeAan4Hc",
        "colab_type": "code",
        "colab": {}
      },
      "source": [
        "# text"
      ],
      "execution_count": 0,
      "outputs": []
    },
    {
      "cell_type": "code",
      "metadata": {
        "id": "StpfA09Tn7xM",
        "colab_type": "code",
        "colab": {}
      },
      "source": [
        "text = re.sub(r'\\[[0-9]*\\]',' ',text)"
      ],
      "execution_count": 0,
      "outputs": []
    },
    {
      "cell_type": "code",
      "metadata": {
        "id": "X0IFTUSroODE",
        "colab_type": "code",
        "colab": {}
      },
      "source": [
        "text = re.sub(r'\\s+',' ',text)"
      ],
      "execution_count": 0,
      "outputs": []
    },
    {
      "cell_type": "code",
      "metadata": {
        "id": "H9w_56yFoPc9",
        "colab_type": "code",
        "colab": {}
      },
      "source": [
        "text = text.lower()"
      ],
      "execution_count": 0,
      "outputs": []
    },
    {
      "cell_type": "code",
      "metadata": {
        "id": "lRyWeWxToYgk",
        "colab_type": "code",
        "colab": {}
      },
      "source": [
        "# text = re.sub(r'\\W',' ',text)\n",
        "text = re.sub(r'[@#$%^&\\*\\(\\)\\<\\>\\?\\;\\\"\\'\\:\\]\\[-]',' ',text)\n",
        "text = re.sub(r'\\d',' ',text)\n",
        "text = re.sub(r'\\s+',' ',text)"
      ],
      "execution_count": 0,
      "outputs": []
    },
    {
      "cell_type": "code",
      "metadata": {
        "id": "MAT9l0uUo0Rc",
        "colab_type": "code",
        "outputId": "a9101095-a542-4ce7-f1f5-e88760e6bdfa",
        "colab": {
          "base_uri": "https://localhost:8080/",
          "height": 54
        }
      },
      "source": [
        "text"
      ],
      "execution_count": 0,
      "outputs": [
        {
          "output_type": "execute_result",
          "data": {
            "text/plain": [
              "' global warming is the long term rise in the average temperature of the earth s climate system, an aspect of current climate change shown by temperature measurements and by multiple effects of the warming. the term commonly refers to the mainly human caused increase in global surface temperatures and its projected continuation. in this context, the terms global warming and climate change are often used interchangeably, but climate change includes both global warming and its effects, such as changes in precipitation and impacts that differ by region. there were prehistoric periods of global warming, but observed changes since the mid th century have been much greater than those seen in previous records covering decades to thousands of years. in , the intergovernmental panel on climate change ipcc fifth assessment report concluded, it is extremely likely that human influence has been the dominant cause of the observed warming since the mid th century. the largest human influence has been the emission of greenhouse gases such as carbon dioxide, methane, and nitrous oxide. climate model projections summarized in the report indicated that during the st century the global surface temperature is likely to rise a further . to . °c . to . °f in a moderate scenario, or as much as . to . °c . to . °f in an extreme scenario, depending on the rate of future greenhouse gas emissions and on climate feedback effects. these findings have been recognized by the national science academies of the major industrialized nations and are not disputed by any scientific body of national or international standing. the effects of global warming include rising sea levels, regional changes in precipitation, more frequent extreme weather events such as heat waves, and expansion of deserts. surface temperature increases are greatest in the arctic, which has contributed to the retreat of glaciers, permafrost, and sea ice. overall, higher temperatures bring more rain and snowfall, but for some regions droughts and wildfires increase instead. climate change threatens to diminish crop yields, harming food security, and rising sea levels may flood coastal infrastructure and force the abandonment of many coastal cities. environmental impacts include the extinction or relocation of many species as their ecosystems change, most immediately the environments of coral reefs, mountains, and the arctic. because the climate system has a large inertia and greenhouse gases persist in the atmosphere, climatic changes and their effects will continue for many centuries even if greenhouse gas emissions are stopped. globally, a majority of people consider global warming a serious or very serious issue. possible societal responses to global warming include mitigation by emissions reduction, adaptation to its effects, and possible future climate engineering. every country in the world is a party to the united nations framework convention on climate change unfccc , whose ultimate objective is to prevent dangerous anthropogenic climate change. although the parties to the unfccc have agreed that deep cuts in emissions are required and that global warming should be limited to well below °c . °f with efforts made to limit warming to . °c . °f , the earth s average surface temperature has already increased by about half this threshold. some scientists call into question the feasibility of the °c . °f temperature target, and some question the feasibility, in higher emissions scenarios, of climate adaptation. climate proxy records show that natural variations offset the early effects of the industrial revolution, so there was little net warming between the th century and the mid th century, when thermometer records began to provide global coverage. the ipcc has adopted the baseline reference period – as an approximation of pre industrial global mean surface temperature. multiple independently produced instrumental datasets confirm that the – decade was . ± . °c warmer than the pre industrial baseline – . currently, surface temperatures are rising by about . °c per decade. since , the number of cold days and nights have decreased, and the number of warm days and night have increased. historical patterns of warming and cooling, like the medieval climate anomaly and the little ice age, were not as synchronous as current warming, but may have reached temperatures as high as those of the late th century in a limited set of regions. although the most common measure of global warming is the increase in the near surface atmospheric temperature, over of the additional energy stored in the climate system over the last years has warmed ocean water. the remainder of the additional energy has melted ice and warmed the continents and the atmosphere. the warming evident in the instrumental temperature record is consistent with a wide range of observations, documented by many independent scientific groups for example, in most continental regions the frequency and intensity of heavy precipitation has increased. further examples include sea level rise, widespread melting of snow and land ice, increased heat content of the oceans, increased humidity, and the earlier timing of spring events, such as the flowering of plants. global warming refers to global averages, with the amount of warming varying by region. since the pre industrial period, global average land temperatures have increased almost twice as fast as global average temperatures. this is due to the larger heat capacity of oceans and because oceans lose more heat by evaporation. patterns of warming are independent of the locations of greenhouse gas emissions because the gases persist long enough to diffuse across the planet however, localized black carbon deposits on snow and ice do contribute to arctic warming. the northern hemisphere and north pole have warmed much faster than the south pole and southern hemisphere. the northern hemisphere not only has much more land, but the arrangement of land masses around the arctic ocean has resulted in the maximum surface area flipping from reflective snow and ice cover to ocean and land surfaces that absorb more sunlight and thus more heat. arctic temperatures have increased and are predicted to continue to increase during this century at over twice the rate of the rest of the world. needs update as the temperature difference between the arctic and the equator decreases, ocean currents that are driven by that temperature difference, like the gulf stream, are weakening. because the climate system has large thermal inertia, it can take centuries for the climate to fully adjust. while record breaking years attract considerable public interest, individual years are less significant than the overall trend. global surface temperature is subject to short term fluctuations that overlie long term trends, and can temporarily mask or magnify them. an example of such an episode is the slower rate of surface temperature increase from to , which was dubbed the global warming hiatus. throughout this period ocean heat storage continued to progress steadily upwards, and in subsequent years surface temperatures have spiked upwards. the slower pace of warming can be attributed to a combination of natural fluctuations, reduced solar activity, and increased volcanic activity. by itself, the climate system experiences various cycles which can last for years such as the el niño–southern oscillation to decades or centuries. other changes are caused by external forcings. these forcings are external to the climate system, but not always external to the earth. examples of external forcings include changes in the composition of the atmosphere e.g., increased concentrations of greenhouse gases , solar luminosity, volcanic eruptions, and variations in the earth s orbit around the sun. attributing detected temperature changes and extreme events to human caused increases in greenhouse gases requires scientists to rule out known internal climate variability and natural external forcings. therefore, a key approach is to use physically or statistically based computer modelling of the climate system to determine unique fingerprints for all potential causes. by comparing these fingerprints with observed patterns and evolution of climate change, and the observed evolution of the forcings, the causes of the observed changes can be determined. scientists have determined that the major factors in the current climate change are greenhouse gases, land use changes, and aerosols and soot. citation needed greenhouse gases trap heat radiating from the earth to space. this heat, in the form of infrared radiation, gets absorbed and emitted by these gases in the atmosphere, thus warming the lower atmosphere and the surface. before the industrial revolution, naturally occurring amounts of greenhouse gases caused the air near the surface to be warmer by about °c °f than it would be in their absence. without the earth s atmosphere, the earth s average temperature would be well below the freezing temperature of water. the major greenhouse gases are water vapour, which causes about – of the greenhouse effect carbon dioxide co , which causes – methane ch , which causes – and ozone o , which causes – . human activity since the industrial revolution has increased the amount of greenhouse gases in the atmosphere, leading to increased radiative forcing from co , methane, tropospheric ozone, cfcs, and nitrous oxide. as of , the concentrations of co and methane had increased by about and , respectively, since pre industrial times. in , co readings taken at the world s primary benchmark site in mauna loa surpassing ppm for the first time. these levels are much higher than at any time during the last , years, the period for which reliable data have been collected from ice cores. less direct geological evidence indicates that co values have not been this high for millions of years. global anthropogenic greenhouse gas emissions in were equivalent to billion tonnes of carbon dioxide using the most recent global warming potentials over years from the ar report . of these emissions, was carbon dioxide from fossil fuel burning and industry, was carbon dioxide from land use change, which is primarily due to deforestation, was from methane, . was from nitrous oxide, and . was from fluorinated gases. using life cycle assessment to estimate emissions relating to final consumption, the dominant sources of emissions were food – of emissions washing, heating, and lighting personal transport and freight and building construction . changing the type of vegetation in a region impacts the local temperature by changing how much sunlight gets reflected back into space, called albedo, and how much heat is lost by evaporation. for instance, the change from a dark forest to grassland makes the surface lighter, and causes it to reflect more sunlight. humans change the land surface mainly to create more agricultural land. since the pre industrial era, albedo has increased due to land use change, which has a cooling effect on the planet. other processes linked to land use change however have had the opposite effect, so that the net effect remains unclear. solid and liquid particles known as aerosols – from volcanoes, plankton, and human made pollutants – reflect incoming sunlight, cooling the climate. from to , a gradual reduction in the amount of sunlight reaching the earth s surface was observed, a phenomenon popularly known as global dimming, typically attributed to aerosols from biofuel and fossil fuel burning. aerosol removal by precipitation gives tropospheric aerosols an atmospheric lifetime of only about a week, while stratospheric aerosols can remain in the atmosphere for a few years. globally, aerosols have been declining since , removing some of the masking of global warming that they had been providing. in addition to their direct effect by scattering and absorbing solar radiation, aerosols have indirect effects on the earth s radiation budget. sulfate aerosols act as cloud condensation nuclei and thus lead to clouds that have more and smaller cloud droplets. these clouds reflect solar radiation more efficiently than clouds with fewer and larger droplets, a phenomenon known as the twomey effect. this effect also causes droplets to be of more uniform size, which reduces the growth of raindrops and makes clouds more reflective to incoming sunlight, known as the albrecht effect. indirect effects of aerosols are the largest uncertainty in radiative forcing. while aerosols typically limit global warming by reflecting sunlight, black carbon in soot that falls on snow or ice can contribute to global warming. not only does this increase the absorption of sunlight, it also increases melting and sea level rise. limiting new black carbon deposits in the arctic could reduce global warming by . °c by . when soot is suspended in the atmosphere, it directly absorbs solar radiation, heating the atmosphere and cooling the surface. in areas with high soot production, such as rural india, as much as of surface warming due to greenhouse gases may be masked by atmospheric brown clouds. the influences of atmospheric particles, including black carbon, are most pronounced in the tropics and northern mid latitudes, with the effects of greenhouse gases dominant in the other parts of the world. as the sun is the earth s primary energy source, changes in incoming sunlight directly affect the climate system. solar irradiance has been measured directly by satellites, and indirect measurements are available beginning in the early s. there has been no upward trend in the amount of the sun s energy reaching the earth, so it cannot be responsible for the current warming. physical climate models are also unable to reproduce the rapid warming observed in recent decades when taking into account only variations in solar output and volcanic activity. another line of evidence for the warming not being due to the sun is how temperature changes differ at different levels in the earth s atmosphere. according to basic physical principles, the greenhouse effect produces warming of the lower atmosphere the troposphere , but cooling of the upper atmosphere the stratosphere . if solar variations were responsible for the observed warming, warming of both the troposphere and the stratosphere would be expected, but that has not been the case. ozone in the lowest layer of the atmosphere, the troposphere, is itself a greenhouse gas. furthermore, it is highly reactive and interacts with other greenhouse gases and aerosols. the response of the climate system to an initial forcing is increased by positive feedbacks and reduced by negative feedbacks. the main negative feedback to global temperature change is radiative cooling to space as infrared radiation, which increases strongly with increasing temperature. the main positive feedbacks are the water vapour feedback, the ice–albedo feedback, and probably the net effect of clouds. uncertainty over feedbacks is the major reason why different climate models project different magnitudes of warming for a given amount of emissions. as air gets warmer, it can hold more moisture. after an initial warming due to emissions of greenhouse gases, the atmosphere will hold more water. as water is a potent greenhouse gas, this further heats the climate the water vapour feedback. the reduction of snow cover and sea ice in the arctic reduces the albedo reflectivity of the earth s surface. more of the sun s energy is now absorbed in these regions, contributing to arctic amplification, which has caused arctic temperatures to increase at almost twice the rate of the rest of the world. arctic amplification also causes methane to be released as permafrost melts, which is expected to surpass land use changes as the second strongest anthropogenic source of greenhouse gases by the end of the century. cloud cover may change in the future. if cloud cover increases, more sunlight will be reflected back into space, cooling the planet. simultaneously, the clouds enhance the greenhouse effect, warming the planet. the opposite is true if cloud cover decreases. it depends on the cloud type and location which process is more important. overall, the net feedback over the industrial era has probably been positive. an analysis of satellite data between and reveals that cloud tops are reaching higher into the atmosphere and that cloudy storm tracks are shifting toward earth s poles, suggesting clouds will be a positive feedback in the future. carbon dioxide stimulates plant growth so the carbon cycle has been a negative feedback so far roughly half of each year s co emissions have been absorbed by plants on land and in oceans, with an estimated increase in plant growth from to . the limits and reversal point for this feedback are an area of uncertainty. as more co and heat are absorbed by the ocean it is acidifying and ocean circulation can change, changing the rate at which the ocean can absorb atmospheric carbon. on land, greater plant growth will be constrained by nitrogen levels and can be reversed by plant heat stress, desertification, and the release of carbon from soil as the ground warms. a concern is that positive feedbacks will lead to a tipping point, where global temperatures transition to a hothouse climate state even if greenhouse gas emissions are reduced or eliminated. a study tried to identify such a planetary threshold for self reinforcing feedbacks and found that even a °c . °f increase in temperature over pre industrial levels may be enough to trigger such a hothouse earth scenario. a climate model is a representation of the physical, chemical, and biological processes that affect the climate system. computer models are run on supercomputers to reproduce and predict the circulation of the oceans, the annual cycle of the seasons, and the flows of carbon between the land surface and the atmosphere. there are more than two dozen scientific institutions that develop climate models. model forecasts vary due to different greenhouse gas inputs and different assumptions about the impact of different feedbacks on climate sensitivity. citation needed a subset of climate models add societal factors to a simple physical climate model. these models simulate how population, economic growth, and energy use affect – and interact with – the physical climate. with this information, scientists can produce scenarios of how greenhouse gas emissions may vary in the future. scientists can then run these scenarios through physical climate models to generate climate change projections. climate models include different external forcings for their models. for different greenhouse gas inputs four rcps representative concentration pathways are used a stringent mitigation scenario rcp . , two intermediate scenarios rcp . and rcp . and one scenario with very high ghg greenhouse gas emissions rcp . . models also include changes in the earth s orbit, historical changes in the sun s activity, and volcanic forcing. rcps only look at concentrations of greenhouse gases, factoring out uncertainty as to whether the carbon cycle will continue to remove about half of the carbon dioxide from the atmosphere each year. the physical realism of models is tested by examining their ability to simulate contemporary or past climates. past models have underestimated the rate of arctic shrinkage and underestimated the rate of precipitation increase. sea level rise since was underestimated in older models, but now agrees well with observations. the united states published national climate assessment notes that climate models may still be underestimating or missing relevant feedback processes . the environmental effects of global warming are broad and far reaching. they include the following diverse effects arctic sea ice decline, sea level rise, retreat of glaciers global warming has led to decades of shrinking and thinning of the arctic sea ice, making it vulnerable to atmospheric anomalies. projections of declines in arctic sea ice vary. recent projections suggest that arctic summers could be ice free defined as an ice extent of less than million square km as early as – . between and , the global mean sea level rose on average by . ± . mm per year, with an acceleration detected as well. over the st century, the ipcc projects that in a high emissions scenario the sea level could rise by – cm. the rate of ice loss from glaciers and ice sheets in the antarctic is a key area of uncertainty since this source could account for of the potential sea level rise. polar amplification and increased ocean warmth are undermining and threatening to unplug antarctic glacier outlets, potentially resulting in more rapid sea level rise. extreme weather, extreme events, tropical cyclones many regions have probably already seen increases in warm spells and heat waves, and it is virtually certain that these changes will continue over the st century. since the s, droughts and heat waves have appeared simultaneously with increasing frequency. extremely wet or dry events within the monsoon period have increased since . better source needed various mechanisms have been identified that might explain extreme weather in mid latitudes from the rapidly warming arctic, such as the jet stream becoming more erratic. the maximum rainfall and wind speed from hurricanes and typhoons are likely increasing. changes in ocean properties higher atmospheric co concentrations have led to an increase in dissolved co , which causes ocean acidification. furthermore, oxygen levels decrease because oxygen is less soluble in warmer water, an effect known as ocean deoxygenation. long term effects of global warming on the timescale of centuries to millennia, the magnitude of global warming will be determined primarily by anthropogenic co emissions. this is due to carbon dioxide s very long lifetime in the atmosphere. because the great mass of glaciers and ice caps depresses the earth s crust, another long term effect of ice melt and deglaciation will be the rising of landmasses, a process called post glacial rebound. this could lead to landslides and increased seismic and volcanic activity. tsunamis could be generated by submarine landslides caused by warmer ocean water thawing ocean floor permafrost or releasing gas hydrates. sea level rise will continue over many centuries. abrupt climate change, tipping points in the climate system climate change could result in global, large scale changes. some large scale changes could occur abruptly, i.e. over a short time period, and might also be irreversible. one potential source of abrupt climate change would be the rapid release of methane and carbon dioxide from permafrost, which would amplify global warming. another example is the possibility for the atlantic meridional overturning circulation to slow or shut down see also shutdown of thermohaline circulation . this could trigger cooling in the north atlantic, europe, and north america. in terrestrial ecosystems, the earlier timing of spring events, as well as poleward and upward shifts in plant and animal ranges, have been linked with high confidence to recent warming. it is expected that most ecosystems will be affected by higher atmospheric co levels and higher global temperatures. the expansion of deserts in the subtropics is probably linked to global warming. needs update ocean acidification threatens damage to coral reefs, fisheries, protected species, and other natural resources of value to society. without substantial actions to reduce the rate of global warming, land based ecosystems risk major shifts in their composition and structure. overall, it is expected that climate change will result in the extinction of many species and reduced diversity of ecosystems. rising temperatures push bees to their physiological limits, and could cause the extinction of bee populations. higher oceanic co may affect the brain and central nervous system of certain fish species, which reduces their ability to hear, smell, and evade predators. the effects of climate change on human systems, mostly due to warming and shifts in precipitation, have been detected worldwide. the future social impacts of climate change will be uneven across the world. all regions are at risk of experiencing negative impacts, with low latitude, less developed areas facing the greatest risk. global warming has likely already increased global economic inequality, and is projected to do so in the future. regional impacts of climate change are now observable on all continents and across ocean regions. the arctic, africa, small islands, and asian megadeltas are regions that are likely to be especially affected by future climate change. many risks increase with higher magnitudes of global warming. crop production will probably be negatively affected in low latitude countries, while effects at northern latitudes may be positive or negative. global warming of around °c relative to late th century levels could pose a large risk to global and regional food security. the impact of climate change on crop productivity for the four major crops was negative for wheat and maize, and neutral for soy and rice, in the years – . climate variability and change is projected to severely compromise agricultural production, including access to food, across africa. by , between million and million people are projected to experience increased water stress due to climate change in africa. water availability will also become more limited in regions dependent on glacier water, regions with reductions in rainfall, and small islands. generally, impacts on public health will be more negative than positive. impacts include the direct effects of extreme weather, leading to injury and loss of life and indirect effects, such as undernutrition brought on by crop failures. there has been a shift from cold to heat related mortality in some regions as a result of warming. temperature rise has been connected to increased numbers of suicides. climate change has been linked to an increase in violent conflict by amplifying poverty and economic shocks, which are well documented drivers of these conflicts. links have been made between a wide range of violent behaviour including fist fights, violent crimes, civil unrest, and wars. climate change may also lead to new human diseases. for example, while ordinary temperatures usually kill off the yeast candida auris before it infects humans, three strains have recently appeared in widely separate regions, leading researchers to postulate that warmer temperatures are driving it to adapt to higher temperatures at which it can more readily infect humans. in small islands and mega deltas, inundation from sea level rise is expected to threaten vital infrastructure and human settlements. this could lead to homelessness in countries with low lying areas such as bangladesh, as well as statelessness for populations in island nations, such as the maldives and tuvalu. climate change can be an important driver of migration, both within and between countries. africa is one of the most vulnerable continents to climate change because of multiple existing stresses and low adaptive capacity. existing stresses include poverty, political conflicts, and ecosystem degradation. regions may even become uninhabitable, with humidity and temperatures reaching levels too high for humans to survive. mitigation of and adaptation to climate change are two complementary responses to global warming. successful adaptation is easier if there are substantial emission reductions. many of the countries that have contributed least to global greenhouse gas emissions are among the most vulnerable to climate change, which raises questions about justice and fairness with regard to mitigation and adaptation. climate change can be be mitigated through the reduction of greenhouse gas emissions or the enhancement of the capacity of carbon sinks to absorb greenhouse gases from the atmosphere. there is a large potential for future reductions in emissions by a combination of activities, including energy conservation and increased energy efficiency the use of low carbon energy technologies, such as renewable energy, nuclear energy, and carbon capture and storage decarbonizing buildings and transport and enhancing carbon sinks through, for example, reforestation and preventing deforestation. a report by citibank concluded that transitioning to a low carbon economy would yield a positive return on investments. over the last three decades of the twentieth century, gross domestic product per capita and population growth were the main drivers of increases in greenhouse gas emissions. co emissions are continuing to rise due to the burning of fossil fuels and land use change. emissions can be attributed to different regions. the attribution of emissions from land use change is subject to considerable uncertainty. emissions scenarios, estimates of changes in future emission levels of greenhouse gases, depend upon uncertain economic, sociological, technological, and natural developments. in some scenarios emissions continue to rise over the century, while others have reduced emissions. fossil fuel reserves are abundant, and will not limit carbon emissions in the st century. emission scenarios can be combined with modelling of the carbon cycle to predict how atmospheric concentrations of greenhouse gases might change in the future. according to these combined models, by the atmospheric concentration of co could be as low as or as high as ppm, depending on the shared socioeconomic pathway ssp the world takes and the mitigation scenario. near and long term trends in the global energy system are inconsistent with limiting global warming to below . or °c relative to pre industrial levels. current pledges made as part of the paris agreement would lead to about . °c of warming at the end of the st century, relative to pre industrial levels. to keep warming below °c, more stringent emission reductions in the near term would allow for less rapid reductions after , and be cheaper overall. to keep warming under . °c, a far reaching system change on an unprecedented scale is necessary in energy, land, cities, transport, buildings, and industry. although low level ozone is harmful, when in the stratosphere ozone is beneficial. as many of the substances which can cause stratospheric ozone depletion are also greenhouse gases, the montreal protocol against their emissions may have done more than any other measure, as of update , to mitigate climate change. co benefits of climate change mitigation may help society and individuals more quickly. for example, cycling reduces greenhouse gas emissions while reducing the effects of a sedentary lifestyle at the same time. the development and scaling up of clean technology, such as cement that produces less co , is critical to achieve sufficient emission reductions for the paris agreement goals. many integrated models are unable to meet the °c target if pessimistic assumptions are made about the availability of mitigation technologies. it has been suggested that the most effective and comprehensive policy to reduce carbon emissions is a carbon tax or the closely related emissions trading. there are diverse opinions on how people could mitigate their carbon footprint. one suggestion is that the best approach is having fewer children, and to a lesser extent living car free, forgoing air travel, and adopting a plant based diet. some disagree with encouraging people to stop having children, saying that children embody a profound hope for the future , and that more emphasis should be placed on overconsumption, lifestyle choices of the world s wealthy, fossil fuel companies, and government inaction. climate change adaptation is the process of adjusting to actual or expected climate change and its effects. humans can strive to moderate or avoid harm due to climate change and exploit opportunities. examples of adaptation are improved coastline protection, better disaster management, and the development of more resistant crops. the adaptation may be planned, either in reaction to or anticipation of global warming, or spontaneous, i.e. without government intervention. the public sector, private sector, and communities are all gaining experience with adaptation, and adaptation is becoming embedded within certain planning processes. while some adaptation responses call for trade offs, others bring synergies and co benefits. environmental organizations and public figures have emphasized changes in the climate and the risks they entail, while promoting adaptation to changes in infrastructural needs and emissions reductions. adaptation is especially important in developing countries since they are predicted to bear the brunt of the effects of global warming. the capacity and potential for humans to adapt, called adaptive capacity, is unevenly distributed across different regions and populations, and developing countries generally have less capacity to adapt. in june , u.n. special rapporteur philip alston warned of a climate apartheid situation developing, where global warming could push more than million more people into poverty by and will have the most severe impact in poor countries, regions, and the places poor people live and work . climate engineering sometimes called geoengineering or climate intervention is the deliberate modification of the climate. it has been investigated as a possible response to global warming by groups including nasa and the royal society. techniques studied fall generally into the categories of solar radiation management and carbon dioxide removal, although various other schemes have been suggested. a study from investigated the most common climate engineering methods and concluded that they are either ineffective or have potentially severe side effects and cannot be stopped without causing rapid climate change. as of update all countries in the world are parties to the united nations framework convention on climate change unfccc , but countries have not ratified it, which means they are not legally bound by the agreement. the objective of the convention is to prevent dangerous human interference with the climate system. as stated in the convention, this requires that greenhouse gas concentrations are stabilized in the atmosphere at a level where ecosystems can adapt naturally to climate change, food production is not threatened, and economic development can be sustained. the framework convention was agreed on in , but global emissions have risen since then. its yearly conferences are the stage of global negotiations. during these negotiations, the g a lobbying group in the united nations representing developing countries pushed for a mandate requiring developed countries to take the lead in reducing their emissions. this was justified on the basis that the developed countries emissions had contributed most to the accumulation of greenhouse gases in the atmosphere, per capita emissions were still relatively low in developing countries, and the emissions of developing countries would grow to meet their development needs. this mandate was sustained in the kyoto protocol to the framework convention. in ratifying the kyoto protocol, most developed countries accepted legally binding commitments to limit their emissions. these first round commitments expired in . united states president george w. bush rejected the treaty on the basis that it exempts of the world, including major population centres such as china and india, from compliance, and would cause serious harm to the us economy . in several unfccc parties produced the copenhagen accord, which has been widely portrayed as disappointing because of its low goals, leading poor nations to reject it. parties associated with the accord aim to limit the future increase in global mean temperature to below °c. in all un countries negotiated the paris agreement, which aims to keep climate change well below °c. the agreement replaced the kyoto protocol. unlike kyoto, no binding emission targets are set in the paris agreement. instead, the procedure of regularly setting ever more ambitious goals and reevaluating these goals every five years has been made binding. the paris agreement reiterated that developing countries must be financially supported. in the scientific literature, there is an overwhelming consensus that global surface temperatures have increased in recent decades and that the trend is caused mainly by human induced emissions of greenhouse gases. no scientific body of national or international standing disagrees with this view. scientific discussion takes place in journal articles that are peer reviewed, which scientists subject to assessment every couple of years in the intergovernmental panel on climate change reports. the scientific consensus as of update , as stated in the ipcc fifth assessment report, is that it is extremely likely that human influence has been the dominant cause of the observed warming since the mid th century . national science academies have called on world leaders for policies to cut global emissions. in november , a second warning to humanity signed by , scientists from countries stated that the current trajectory of potentially catastrophic climate change due to rising greenhouse gases from burning fossil fuels, deforestation, and agricultural production – particularly from farming ruminants for meat consumption is especially troubling . in the ipcc published a special report on global warming of . °c which warned that, if the current rate of greenhouse gas emissions is not mitigated, global warming is likely to reach . °c . °f between and , risking major crises. the report said that preventing such crises will require a swift transformation of the global economy that has no documented historic precedent . in the th century and early s some companies, such as exxonmobil, challenged ipcc climate change scenarios, funded scientists who disagreed with the scientific consensus, and provided their own projections of the economic cost of stricter controls. in general, since the s, global oil companies do not dispute that climate change exists and is caused by the burning of fossil fuels. as of update , however, some are lobbying against a carbon tax and plan to increase production of oil and gas, but others are in favour of a carbon tax in exchange for immunity from lawsuits which seek climate change compensation. the global warming problem came to international public attention in the late s. significant regional differences exist in how concerned people are about climate change and how much they understand the issue. in , just a little over half the us population viewed it as a serious concern for either themselves or their families, while of people in latin america and in developed asia felt this way. similarly, in a median of of respondents considered it a very serious problem , but americans and chinese whose economies are responsible for the greatest annual co emissions were among the least concerned. worldwide in , people were more likely to attribute global warming to human activities than to natural causes, except in the us where nearly half of the population attributed global warming to natural causes. public reactions to global warming and concern about its effects have been increasing, with many perceiving it as the worst global threat. from about onward, american conservative think tanks had begun challenging the legitimacy of global warming as a social problem. they challenged the scientific evidence, argued that global warming would have benefits, feared that concern for global warming was some kind of socialist plot to undermine american capitalism, and asserted that proposed solutions would do more harm than good. organizations such as the libertarian competitive enterprise institute, as well as conservative commentators, have challenged ipcc climate change scenarios, funded scientists who disagree with the scientific consensus, and provided their own projections of the economic cost of stricter controls. global warming has been the subject of controversy, substantially more pronounced in the popular media than in the scientific literature, with disputes regarding the nature, causes, and consequences of global warming. the disputed issues include the causes of increased global average air temperature, especially since the mid th century, whether this warming trend is unprecedented or within normal climatic variations, whether humankind has contributed significantly to it, and whether the increase is completely or partially an artifact of poor measurements. additional disputes concern estimates of climate sensitivity, predictions of additional warming, what the consequences of global warming will be, and what to do about it. due to confusing media coverage in the early s, issues such as ozone depletion and climate change were often mixed up, affecting public understanding of these issues. although there are a few areas of linkage, the relationship between the two is weak. in response to perceived inaction on climate change, a climate movement is protesting in various ways, such as by fossil fuel divestment, worldwide demonstrations, and a school strike for climate. mass civil disobedience actions by extinction rebellion and ende gelände have ended in police intervention and large scale arrests. the history of climate change science began in the early th century when ice ages and other natural changes in paleoclimate were first suspected and the natural greenhouse effect was identified. in the late th century, scientists first argued that human emissions of greenhouse gases could change the climate. in the s, the warming effect of carbon dioxide gas became increasingly convincing. by the s, as a result of the improving fidelity of computer models and observational work confirming the milankovitch theory of the ice ages, a consensus position formed greenhouse gases were deeply involved in most climate changes, and human caused emissions were bringing discernible global warming. since then, scientific research on climate change has expanded. the intergovernmental panel on climate change, set up in the s to provide formal advice to the world s governments, spurred unprecedented levels of exchange between different scientific disciplines. the greenhouse effect was proposed by joseph fourier in , discovered in by eunice newton foote, expanded upon by john tyndall, investigated quantitatively by svante arrhenius in , and the hypothesis was reported in the popular press as early as . the scientific description of global warming was further developed in the s through the s by guy stewart callendar. research in the s suggested that temperatures were increasing, and a newspaper used the term climate change . this phrase next appeared in a november report in the hammond times which described roger revelle s research into the effects of increasing human caused co emissions on the greenhouse effect a large scale global warming, with radical climate changes may result . a mit report referred to the human impact as inadvertent climate modification , identifying many possible causes. both the terms global warming and climate change were used only occasionally until , when wallace smith broecker published a scientific paper on the topic, climatic change are we on the brink of a pronounced global warming . the phrase began to come into common use, and in mikhail budyko s statement that a global warming up has started was widely reported. an influential national academy of sciences study headed by jule charney followed broecker in using global warming to refer to rising surface temperatures, while describing the wider effects of increased co as climate change. there were increasing heatwaves and drought problems in the summer of , and nasa climate scientist james hansen s testimony in the u.s. senate sparked worldwide interest. he said global warming has reached a level such that we can ascribe with a high degree of confidence a cause and effect relationship between the greenhouse effect and the observed warming . public attention increased over the summer, and global warming became the dominant popular term, commonly used both by the press and in public discourse. in the s, the term climate change increased in popularity. people who regard climate change as catastrophic, irreversible, or rapid might label climate change as a climate crisis or a climate emergency. some major newspapers, such as the guardian, have taken up the use of this terminology, as well as the term global heating, in order to emphasize its seriousness and urgency. since , some city councils have issued climate emergency declarations. in , the british parliament became the first national government in the world to officially declare a climate emergency. tar working group ii report tar working group iii report ar working group i report ar working group ii report ar working group iii report ar synthesis report ar working group i report ar working group ii report ar working group iii report ar synthesis report special report srex special report sr special report climate change and land abc american institute of physics bbc carbon brief cnn deutsche welle the economist epa euobserver euronews gallup the guardian msnbc met office nasa national geographic national review nature newsweek noaa npr opendemocracy pew research phys.org popular mechanics rivm science sciencedaily scientific american the braidwood dispatch and mining journal the new york times the washington post u.s. geological survey usa today vice vox yale climate connections '"
            ]
          },
          "metadata": {
            "tags": []
          },
          "execution_count": 47
        }
      ]
    },
    {
      "cell_type": "code",
      "metadata": {
        "id": "pfALndu1o1WP",
        "colab_type": "code",
        "outputId": "bf6213ac-333d-480f-bde3-43d760aa2ad0",
        "colab": {
          "base_uri": "https://localhost:8080/",
          "height": 34
        }
      },
      "source": [
        "sentences = nltk.sent_tokenize(text)"
      ],
      "execution_count": 0,
      "outputs": [
        {
          "output_type": "execute_result",
          "data": {
            "text/plain": [
              "list"
            ]
          },
          "metadata": {
            "tags": []
          },
          "execution_count": 48
        }
      ]
    },
    {
      "cell_type": "code",
      "metadata": {
        "id": "7wx6t9YIpM4X",
        "colab_type": "code",
        "colab": {}
      },
      "source": [
        "sentences = [nltk.word_tokenize(sentence) for sentence in sentences]"
      ],
      "execution_count": 0,
      "outputs": []
    },
    {
      "cell_type": "code",
      "metadata": {
        "id": "XTXT6Mwbvp9w",
        "colab_type": "code",
        "colab": {}
      },
      "source": [
        "for i in range(len(sentences)):\n",
        "  sentences[i] = [word for word in sentences[i] if word not in stopwords.words('english')]"
      ],
      "execution_count": 0,
      "outputs": []
    },
    {
      "cell_type": "code",
      "metadata": {
        "id": "IBM9_nPGqEdE",
        "colab_type": "code",
        "colab": {}
      },
      "source": [
        "# sentences"
      ],
      "execution_count": 0,
      "outputs": []
    },
    {
      "cell_type": "code",
      "metadata": {
        "id": "-G9F11PvqOZc",
        "colab_type": "code",
        "colab": {}
      },
      "source": [
        "model = Word2Vec(sentences,min_count=1)"
      ],
      "execution_count": 0,
      "outputs": []
    },
    {
      "cell_type": "code",
      "metadata": {
        "id": "5V9e-7aYrJok",
        "colab_type": "code",
        "colab": {}
      },
      "source": [
        "words = model.wv.vocab"
      ],
      "execution_count": 0,
      "outputs": []
    },
    {
      "cell_type": "code",
      "metadata": {
        "id": "2ROLzciGrRQr",
        "colab_type": "code",
        "colab": {}
      },
      "source": [
        "# words"
      ],
      "execution_count": 0,
      "outputs": []
    },
    {
      "cell_type": "code",
      "metadata": {
        "id": "hr1-y75hrTSW",
        "colab_type": "code",
        "colab": {}
      },
      "source": [
        "vector = model.wv['global']"
      ],
      "execution_count": 0,
      "outputs": []
    },
    {
      "cell_type": "code",
      "metadata": {
        "id": "qTA_jMEDrtN0",
        "colab_type": "code",
        "colab": {}
      },
      "source": [
        "# vector"
      ],
      "execution_count": 0,
      "outputs": []
    },
    {
      "cell_type": "code",
      "metadata": {
        "id": "D6nYkvC_r877",
        "colab_type": "code",
        "outputId": "5978ee5a-2033-4c66-ae27-1634ed00a494",
        "colab": {
          "base_uri": "https://localhost:8080/",
          "height": 71
        }
      },
      "source": [
        "similar = model.wv.most_similar('temperature')"
      ],
      "execution_count": 0,
      "outputs": [
        {
          "output_type": "stream",
          "text": [
            "/usr/local/lib/python3.6/dist-packages/gensim/matutils.py:737: FutureWarning: Conversion of the second argument of issubdtype from `int` to `np.signedinteger` is deprecated. In future, it will be treated as `np.int64 == np.dtype(int).type`.\n",
            "  if np.issubdtype(vec.dtype, np.int):\n"
          ],
          "name": "stderr"
        }
      ]
    },
    {
      "cell_type": "code",
      "metadata": {
        "id": "DpiCF0ESsrh7",
        "colab_type": "code",
        "outputId": "72bdf6e9-9181-4b1e-96cd-ee146c682a6a",
        "colab": {
          "base_uri": "https://localhost:8080/",
          "height": 187
        }
      },
      "source": [
        "similar"
      ],
      "execution_count": 0,
      "outputs": [
        {
          "output_type": "execute_result",
          "data": {
            "text/plain": [
              "[(',', 0.6268182992935181),\n",
              " ('.', 0.5571668148040771),\n",
              " ('warming', 0.5356389284133911),\n",
              " ('increased', 0.4875721037387848),\n",
              " ('caused', 0.48744288086891174),\n",
              " ('energy', 0.48446935415267944),\n",
              " ('changes', 0.4726431369781494),\n",
              " ('also', 0.46299922466278076),\n",
              " ('effects', 0.45892930030822754),\n",
              " ('change', 0.4563378095626831)]"
            ]
          },
          "metadata": {
            "tags": []
          },
          "execution_count": 63
        }
      ]
    },
    {
      "cell_type": "code",
      "metadata": {
        "id": "_o7vqRz7st0k",
        "colab_type": "code",
        "colab": {}
      },
      "source": [
        ""
      ],
      "execution_count": 0,
      "outputs": []
    }
  ]
}