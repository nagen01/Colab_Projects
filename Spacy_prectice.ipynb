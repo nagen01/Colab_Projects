{
  "nbformat": 4,
  "nbformat_minor": 0,
  "metadata": {
    "colab": {
      "name": "Spacy_prectice.ipynb",
      "provenance": [],
      "collapsed_sections": [],
      "include_colab_link": true
    },
    "kernelspec": {
      "name": "python3",
      "display_name": "Python 3"
    }
  },
  "cells": [
    {
      "cell_type": "markdown",
      "metadata": {
        "id": "view-in-github",
        "colab_type": "text"
      },
      "source": [
        "<a href=\"https://colab.research.google.com/github/nagen01/Colab_Projects/blob/master/Spacy_prectice.ipynb\" target=\"_parent\"><img src=\"https://colab.research.google.com/assets/colab-badge.svg\" alt=\"Open In Colab\"/></a>"
      ]
    },
    {
      "cell_type": "code",
      "metadata": {
        "id": "gmibiWm1dn08",
        "colab_type": "code",
        "colab": {}
      },
      "source": [
        "import spacy"
      ],
      "execution_count": 0,
      "outputs": []
    },
    {
      "cell_type": "code",
      "metadata": {
        "id": "XB555ROydrsv",
        "colab_type": "code",
        "colab": {}
      },
      "source": [
        "nlp = spacy.load('en_core_web_sm')"
      ],
      "execution_count": 0,
      "outputs": []
    },
    {
      "cell_type": "code",
      "metadata": {
        "id": "5dvLGs2qeXOf",
        "colab_type": "code",
        "colab": {}
      },
      "source": [
        "doc = nlp(u'I am learning python, it looks intresting to me')"
      ],
      "execution_count": 0,
      "outputs": []
    },
    {
      "cell_type": "code",
      "metadata": {
        "id": "N8lWY9HpekHY",
        "colab_type": "code",
        "colab": {
          "base_uri": "https://localhost:8080/",
          "height": 34
        },
        "outputId": "2443d6ae-8c20-4f89-c3a1-5ce1e41d4e7e"
      },
      "source": [
        "doc[2:3]"
      ],
      "execution_count": 6,
      "outputs": [
        {
          "output_type": "execute_result",
          "data": {
            "text/plain": [
              "learning"
            ]
          },
          "metadata": {
            "tags": []
          },
          "execution_count": 6
        }
      ]
    },
    {
      "cell_type": "code",
      "metadata": {
        "id": "HGTtiRFcu0Uo",
        "colab_type": "code",
        "colab": {
          "base_uri": "https://localhost:8080/",
          "height": 34
        },
        "outputId": "35c19137-ca30-4584-9452-94c74c35bdd5"
      },
      "source": [
        "POS_counts = doc.count_by(spacy.attrs.POS)\n",
        "POS_counts"
      ],
      "execution_count": 39,
      "outputs": [
        {
          "output_type": "execute_result",
          "data": {
            "text/plain": [
              "{84: 1, 85: 2, 90: 1, 92: 7, 94: 1, 96: 2, 97: 3, 100: 4}"
            ]
          },
          "metadata": {
            "tags": []
          },
          "execution_count": 39
        }
      ]
    },
    {
      "cell_type": "code",
      "metadata": {
        "id": "kL4NJwscu0kT",
        "colab_type": "code",
        "colab": {
          "base_uri": "https://localhost:8080/",
          "height": 153
        },
        "outputId": "fa100ba2-1cdd-4772-9533-e28cb9742c14"
      },
      "source": [
        "for k,v in sorted(POS_counts.items()):\n",
        "  print(f'{k} {doc.vocab[k].text:{10}} {v}')"
      ],
      "execution_count": 48,
      "outputs": [
        {
          "output_type": "stream",
          "text": [
            "84 ADJ        1\n",
            "85 ADP        2\n",
            "90 DET        1\n",
            "92 NOUN       7\n",
            "94 PART       1\n",
            "96 PROPN      2\n",
            "97 PUNCT      3\n",
            "100 VERB       4\n"
          ],
          "name": "stdout"
        }
      ]
    },
    {
      "cell_type": "code",
      "metadata": {
        "id": "zjUOuGTxu0uP",
        "colab_type": "code",
        "colab": {}
      },
      "source": [
        "  "
      ],
      "execution_count": 0,
      "outputs": []
    },
    {
      "cell_type": "code",
      "metadata": {
        "id": "Rgg8LiTNu0sn",
        "colab_type": "code",
        "colab": {}
      },
      "source": [
        ""
      ],
      "execution_count": 0,
      "outputs": []
    },
    {
      "cell_type": "code",
      "metadata": {
        "id": "VTQ3ipx_emMh",
        "colab_type": "code",
        "colab": {}
      },
      "source": [
        "from spacy import displacy"
      ],
      "execution_count": 0,
      "outputs": []
    },
    {
      "cell_type": "code",
      "metadata": {
        "id": "GWTQlk28ey8A",
        "colab_type": "code",
        "colab": {
          "base_uri": "https://localhost:8080/",
          "height": 323
        },
        "outputId": "31de9828-24be-45e5-bdb5-6f441a265323"
      },
      "source": [
        "displacy.render(doc,style='dep',jupyter=True,options={'distance':110})"
      ],
      "execution_count": 8,
      "outputs": [
        {
          "output_type": "display_data",
          "data": {
            "text/html": [
              "<svg xmlns=\"http://www.w3.org/2000/svg\" xmlns:xlink=\"http://www.w3.org/1999/xlink\" xml:lang=\"en\" id=\"a1d5d654569d4503999d0e302bffa2fe-0\" class=\"displacy\" width=\"1040\" height=\"302.0\" direction=\"ltr\" style=\"max-width: none; height: 302.0px; color: #000000; background: #ffffff; font-family: Arial; direction: ltr\">\n",
              "<text class=\"displacy-token\" fill=\"currentColor\" text-anchor=\"middle\" y=\"212.0\">\n",
              "    <tspan class=\"displacy-word\" fill=\"currentColor\" x=\"50\">I</tspan>\n",
              "    <tspan class=\"displacy-tag\" dy=\"2em\" fill=\"currentColor\" x=\"50\">PRON</tspan>\n",
              "</text>\n",
              "\n",
              "<text class=\"displacy-token\" fill=\"currentColor\" text-anchor=\"middle\" y=\"212.0\">\n",
              "    <tspan class=\"displacy-word\" fill=\"currentColor\" x=\"160\">am</tspan>\n",
              "    <tspan class=\"displacy-tag\" dy=\"2em\" fill=\"currentColor\" x=\"160\">VERB</tspan>\n",
              "</text>\n",
              "\n",
              "<text class=\"displacy-token\" fill=\"currentColor\" text-anchor=\"middle\" y=\"212.0\">\n",
              "    <tspan class=\"displacy-word\" fill=\"currentColor\" x=\"270\">learning</tspan>\n",
              "    <tspan class=\"displacy-tag\" dy=\"2em\" fill=\"currentColor\" x=\"270\">VERB</tspan>\n",
              "</text>\n",
              "\n",
              "<text class=\"displacy-token\" fill=\"currentColor\" text-anchor=\"middle\" y=\"212.0\">\n",
              "    <tspan class=\"displacy-word\" fill=\"currentColor\" x=\"380\">python,</tspan>\n",
              "    <tspan class=\"displacy-tag\" dy=\"2em\" fill=\"currentColor\" x=\"380\">ADV</tspan>\n",
              "</text>\n",
              "\n",
              "<text class=\"displacy-token\" fill=\"currentColor\" text-anchor=\"middle\" y=\"212.0\">\n",
              "    <tspan class=\"displacy-word\" fill=\"currentColor\" x=\"490\">it</tspan>\n",
              "    <tspan class=\"displacy-tag\" dy=\"2em\" fill=\"currentColor\" x=\"490\">PRON</tspan>\n",
              "</text>\n",
              "\n",
              "<text class=\"displacy-token\" fill=\"currentColor\" text-anchor=\"middle\" y=\"212.0\">\n",
              "    <tspan class=\"displacy-word\" fill=\"currentColor\" x=\"600\">looks</tspan>\n",
              "    <tspan class=\"displacy-tag\" dy=\"2em\" fill=\"currentColor\" x=\"600\">VERB</tspan>\n",
              "</text>\n",
              "\n",
              "<text class=\"displacy-token\" fill=\"currentColor\" text-anchor=\"middle\" y=\"212.0\">\n",
              "    <tspan class=\"displacy-word\" fill=\"currentColor\" x=\"710\">intresting</tspan>\n",
              "    <tspan class=\"displacy-tag\" dy=\"2em\" fill=\"currentColor\" x=\"710\">VERB</tspan>\n",
              "</text>\n",
              "\n",
              "<text class=\"displacy-token\" fill=\"currentColor\" text-anchor=\"middle\" y=\"212.0\">\n",
              "    <tspan class=\"displacy-word\" fill=\"currentColor\" x=\"820\">to</tspan>\n",
              "    <tspan class=\"displacy-tag\" dy=\"2em\" fill=\"currentColor\" x=\"820\">ADP</tspan>\n",
              "</text>\n",
              "\n",
              "<text class=\"displacy-token\" fill=\"currentColor\" text-anchor=\"middle\" y=\"212.0\">\n",
              "    <tspan class=\"displacy-word\" fill=\"currentColor\" x=\"930\">me</tspan>\n",
              "    <tspan class=\"displacy-tag\" dy=\"2em\" fill=\"currentColor\" x=\"930\">PRON</tspan>\n",
              "</text>\n",
              "\n",
              "<g class=\"displacy-arrow\">\n",
              "    <path class=\"displacy-arc\" id=\"arrow-a1d5d654569d4503999d0e302bffa2fe-0-0\" stroke-width=\"2px\" d=\"M70,167.0 C70,57.0 265.0,57.0 265.0,167.0\" fill=\"none\" stroke=\"currentColor\"/>\n",
              "    <text dy=\"1.25em\" style=\"font-size: 0.8em; letter-spacing: 1px\">\n",
              "        <textPath xlink:href=\"#arrow-a1d5d654569d4503999d0e302bffa2fe-0-0\" class=\"displacy-label\" startOffset=\"50%\" side=\"left\" fill=\"currentColor\" text-anchor=\"middle\">nsubj</textPath>\n",
              "    </text>\n",
              "    <path class=\"displacy-arrowhead\" d=\"M70,169.0 L62,157.0 78,157.0\" fill=\"currentColor\"/>\n",
              "</g>\n",
              "\n",
              "<g class=\"displacy-arrow\">\n",
              "    <path class=\"displacy-arc\" id=\"arrow-a1d5d654569d4503999d0e302bffa2fe-0-1\" stroke-width=\"2px\" d=\"M180,167.0 C180,112.0 260.0,112.0 260.0,167.0\" fill=\"none\" stroke=\"currentColor\"/>\n",
              "    <text dy=\"1.25em\" style=\"font-size: 0.8em; letter-spacing: 1px\">\n",
              "        <textPath xlink:href=\"#arrow-a1d5d654569d4503999d0e302bffa2fe-0-1\" class=\"displacy-label\" startOffset=\"50%\" side=\"left\" fill=\"currentColor\" text-anchor=\"middle\">aux</textPath>\n",
              "    </text>\n",
              "    <path class=\"displacy-arrowhead\" d=\"M180,169.0 L172,157.0 188,157.0\" fill=\"currentColor\"/>\n",
              "</g>\n",
              "\n",
              "<g class=\"displacy-arrow\">\n",
              "    <path class=\"displacy-arc\" id=\"arrow-a1d5d654569d4503999d0e302bffa2fe-0-2\" stroke-width=\"2px\" d=\"M290,167.0 C290,2.0 600.0,2.0 600.0,167.0\" fill=\"none\" stroke=\"currentColor\"/>\n",
              "    <text dy=\"1.25em\" style=\"font-size: 0.8em; letter-spacing: 1px\">\n",
              "        <textPath xlink:href=\"#arrow-a1d5d654569d4503999d0e302bffa2fe-0-2\" class=\"displacy-label\" startOffset=\"50%\" side=\"left\" fill=\"currentColor\" text-anchor=\"middle\">ccomp</textPath>\n",
              "    </text>\n",
              "    <path class=\"displacy-arrowhead\" d=\"M290,169.0 L282,157.0 298,157.0\" fill=\"currentColor\"/>\n",
              "</g>\n",
              "\n",
              "<g class=\"displacy-arrow\">\n",
              "    <path class=\"displacy-arc\" id=\"arrow-a1d5d654569d4503999d0e302bffa2fe-0-3\" stroke-width=\"2px\" d=\"M290,167.0 C290,112.0 370.0,112.0 370.0,167.0\" fill=\"none\" stroke=\"currentColor\"/>\n",
              "    <text dy=\"1.25em\" style=\"font-size: 0.8em; letter-spacing: 1px\">\n",
              "        <textPath xlink:href=\"#arrow-a1d5d654569d4503999d0e302bffa2fe-0-3\" class=\"displacy-label\" startOffset=\"50%\" side=\"left\" fill=\"currentColor\" text-anchor=\"middle\">dobj</textPath>\n",
              "    </text>\n",
              "    <path class=\"displacy-arrowhead\" d=\"M370.0,169.0 L378.0,157.0 362.0,157.0\" fill=\"currentColor\"/>\n",
              "</g>\n",
              "\n",
              "<g class=\"displacy-arrow\">\n",
              "    <path class=\"displacy-arc\" id=\"arrow-a1d5d654569d4503999d0e302bffa2fe-0-4\" stroke-width=\"2px\" d=\"M510,167.0 C510,112.0 590.0,112.0 590.0,167.0\" fill=\"none\" stroke=\"currentColor\"/>\n",
              "    <text dy=\"1.25em\" style=\"font-size: 0.8em; letter-spacing: 1px\">\n",
              "        <textPath xlink:href=\"#arrow-a1d5d654569d4503999d0e302bffa2fe-0-4\" class=\"displacy-label\" startOffset=\"50%\" side=\"left\" fill=\"currentColor\" text-anchor=\"middle\">nsubj</textPath>\n",
              "    </text>\n",
              "    <path class=\"displacy-arrowhead\" d=\"M510,169.0 L502,157.0 518,157.0\" fill=\"currentColor\"/>\n",
              "</g>\n",
              "\n",
              "<g class=\"displacy-arrow\">\n",
              "    <path class=\"displacy-arc\" id=\"arrow-a1d5d654569d4503999d0e302bffa2fe-0-5\" stroke-width=\"2px\" d=\"M620,167.0 C620,112.0 700.0,112.0 700.0,167.0\" fill=\"none\" stroke=\"currentColor\"/>\n",
              "    <text dy=\"1.25em\" style=\"font-size: 0.8em; letter-spacing: 1px\">\n",
              "        <textPath xlink:href=\"#arrow-a1d5d654569d4503999d0e302bffa2fe-0-5\" class=\"displacy-label\" startOffset=\"50%\" side=\"left\" fill=\"currentColor\" text-anchor=\"middle\">xcomp</textPath>\n",
              "    </text>\n",
              "    <path class=\"displacy-arrowhead\" d=\"M700.0,169.0 L708.0,157.0 692.0,157.0\" fill=\"currentColor\"/>\n",
              "</g>\n",
              "\n",
              "<g class=\"displacy-arrow\">\n",
              "    <path class=\"displacy-arc\" id=\"arrow-a1d5d654569d4503999d0e302bffa2fe-0-6\" stroke-width=\"2px\" d=\"M730,167.0 C730,112.0 810.0,112.0 810.0,167.0\" fill=\"none\" stroke=\"currentColor\"/>\n",
              "    <text dy=\"1.25em\" style=\"font-size: 0.8em; letter-spacing: 1px\">\n",
              "        <textPath xlink:href=\"#arrow-a1d5d654569d4503999d0e302bffa2fe-0-6\" class=\"displacy-label\" startOffset=\"50%\" side=\"left\" fill=\"currentColor\" text-anchor=\"middle\">prep</textPath>\n",
              "    </text>\n",
              "    <path class=\"displacy-arrowhead\" d=\"M810.0,169.0 L818.0,157.0 802.0,157.0\" fill=\"currentColor\"/>\n",
              "</g>\n",
              "\n",
              "<g class=\"displacy-arrow\">\n",
              "    <path class=\"displacy-arc\" id=\"arrow-a1d5d654569d4503999d0e302bffa2fe-0-7\" stroke-width=\"2px\" d=\"M840,167.0 C840,112.0 920.0,112.0 920.0,167.0\" fill=\"none\" stroke=\"currentColor\"/>\n",
              "    <text dy=\"1.25em\" style=\"font-size: 0.8em; letter-spacing: 1px\">\n",
              "        <textPath xlink:href=\"#arrow-a1d5d654569d4503999d0e302bffa2fe-0-7\" class=\"displacy-label\" startOffset=\"50%\" side=\"left\" fill=\"currentColor\" text-anchor=\"middle\">pobj</textPath>\n",
              "    </text>\n",
              "    <path class=\"displacy-arrowhead\" d=\"M920.0,169.0 L928.0,157.0 912.0,157.0\" fill=\"currentColor\"/>\n",
              "</g>\n",
              "</svg>"
            ],
            "text/plain": [
              "<IPython.core.display.HTML object>"
            ]
          },
          "metadata": {
            "tags": []
          }
        }
      ]
    },
    {
      "cell_type": "code",
      "metadata": {
        "id": "aStlyOThe-qu",
        "colab_type": "code",
        "colab": {
          "base_uri": "https://localhost:8080/",
          "height": 187
        },
        "outputId": "1ecd1fb2-b40a-4ded-cd40-4c5024698b24"
      },
      "source": [
        "for token in doc:\n",
        "  print(token.text,'\\t',token.pos_,'\\t',token.lemma,'\\t',token.lemma_,'\\t',token.dep_)"
      ],
      "execution_count": 9,
      "outputs": [
        {
          "output_type": "stream",
          "text": [
            "I \t PRON \t 561228191312463089 \t -PRON- \t nsubj\n",
            "am \t VERB \t 10382539506755952630 \t be \t aux\n",
            "learning \t VERB \t 9664905639869093544 \t learn \t ccomp\n",
            "python \t ADV \t 17956708691072489762 \t python \t dobj\n",
            ", \t PUNCT \t 2593208677638477497 \t , \t punct\n",
            "it \t PRON \t 561228191312463089 \t -PRON- \t nsubj\n",
            "looks \t VERB \t 16096726548953279178 \t look \t ROOT\n",
            "intresting \t VERB \t 10116009316107689841 \t intreste \t xcomp\n",
            "to \t ADP \t 3791531372978436496 \t to \t prep\n",
            "me \t PRON \t 561228191312463089 \t -PRON- \t pobj\n"
          ],
          "name": "stdout"
        }
      ]
    },
    {
      "cell_type": "code",
      "metadata": {
        "id": "AEDAX62kfHvx",
        "colab_type": "code",
        "colab": {}
      },
      "source": [
        "import nltk"
      ],
      "execution_count": 0,
      "outputs": []
    },
    {
      "cell_type": "code",
      "metadata": {
        "id": "Q6sVg5GLfr2u",
        "colab_type": "code",
        "colab": {}
      },
      "source": [
        "from nltk.stem.porter import PorterStemmer"
      ],
      "execution_count": 0,
      "outputs": []
    },
    {
      "cell_type": "code",
      "metadata": {
        "id": "4pdhXdz-fzXR",
        "colab_type": "code",
        "colab": {}
      },
      "source": [
        "p_stemmer = PorterStemmer()"
      ],
      "execution_count": 0,
      "outputs": []
    },
    {
      "cell_type": "code",
      "metadata": {
        "id": "CsM1ALUUgD4v",
        "colab_type": "code",
        "colab": {}
      },
      "source": [
        "word = ['run','running','runner','swim','swimmer','swimming']"
      ],
      "execution_count": 0,
      "outputs": []
    },
    {
      "cell_type": "code",
      "metadata": {
        "id": "jfZ-tsnCgeNB",
        "colab_type": "code",
        "colab": {
          "base_uri": "https://localhost:8080/",
          "height": 34
        },
        "outputId": "b6a28475-b7c2-474c-8d74-03c960080680"
      },
      "source": [
        "p_stemmer.stem(word[2])"
      ],
      "execution_count": 14,
      "outputs": [
        {
          "output_type": "execute_result",
          "data": {
            "text/plain": [
              "'runner'"
            ]
          },
          "metadata": {
            "tags": []
          },
          "execution_count": 14
        }
      ]
    },
    {
      "cell_type": "code",
      "metadata": {
        "id": "Fzc4GEeEgifb",
        "colab_type": "code",
        "colab": {
          "base_uri": "https://localhost:8080/",
          "height": 119
        },
        "outputId": "01ea84e5-a6aa-4c57-80ee-753ae144821b"
      },
      "source": [
        "for w in word:\n",
        "  print(w + '------------>' + p_stemmer.stem(w))"
      ],
      "execution_count": 15,
      "outputs": [
        {
          "output_type": "stream",
          "text": [
            "run------------>run\n",
            "running------------>run\n",
            "runner------------>runner\n",
            "swim------------>swim\n",
            "swimmer------------>swimmer\n",
            "swimming------------>swim\n"
          ],
          "name": "stdout"
        }
      ]
    },
    {
      "cell_type": "code",
      "metadata": {
        "id": "GxZ-5G12g8Ou",
        "colab_type": "code",
        "colab": {}
      },
      "source": [
        "from nltk.stem.snowball import SnowballStemmer"
      ],
      "execution_count": 0,
      "outputs": []
    },
    {
      "cell_type": "code",
      "metadata": {
        "id": "cwb6mJpEhpBv",
        "colab_type": "code",
        "colab": {}
      },
      "source": [
        "s_stemmer = SnowballStemmer(language='english')"
      ],
      "execution_count": 0,
      "outputs": []
    },
    {
      "cell_type": "code",
      "metadata": {
        "id": "S9LE3Rvch582",
        "colab_type": "code",
        "colab": {
          "base_uri": "https://localhost:8080/",
          "height": 119
        },
        "outputId": "e506614e-6320-4d3a-ceeb-57587a17b78c"
      },
      "source": [
        "for w in word:\n",
        "  print(w + '------------>' + s_stemmer.stem(w))"
      ],
      "execution_count": 18,
      "outputs": [
        {
          "output_type": "stream",
          "text": [
            "run------------>run\n",
            "running------------>run\n",
            "runner------------>runner\n",
            "swim------------>swim\n",
            "swimmer------------>swimmer\n",
            "swimming------------>swim\n"
          ],
          "name": "stdout"
        }
      ]
    },
    {
      "cell_type": "code",
      "metadata": {
        "id": "WIlcfuzIh_Hz",
        "colab_type": "code",
        "colab": {}
      },
      "source": [
        "def show_lemma(text):\n",
        "  for token in text:\n",
        "    print(f'{token.text:{12}} {token.pos_:{10}} {token.lemma:<{22}} {token.lemma_:{10}}')    "
      ],
      "execution_count": 0,
      "outputs": []
    },
    {
      "cell_type": "code",
      "metadata": {
        "id": "AFlC2SLdwudD",
        "colab_type": "code",
        "colab": {}
      },
      "source": [
        "def show_ents(doc):\n",
        "  if doc.ents:\n",
        "    for entity in doc.ents:\n",
        "      print(entity.text+ '-' + entity.label_+ '--' + str(spacy.explain(entity.label_)))\n",
        "  else:\n",
        "    print('No entity is found in the document')"
      ],
      "execution_count": 0,
      "outputs": []
    },
    {
      "cell_type": "code",
      "metadata": {
        "id": "Vm9o158OxjoB",
        "colab_type": "code",
        "colab": {
          "base_uri": "https://localhost:8080/",
          "height": 34
        },
        "outputId": "38c11f9c-3098-4b25-ed15-7103c89bbfae"
      },
      "source": [
        "show_ents(doc)"
      ],
      "execution_count": 52,
      "outputs": [
        {
          "output_type": "stream",
          "text": [
            "Solar Power-ORG--Companies, agencies, institutions, etc.\n"
          ],
          "name": "stdout"
        }
      ]
    },
    {
      "cell_type": "code",
      "metadata": {
        "id": "upAWBQs4i8w7",
        "colab_type": "code",
        "colab": {
          "base_uri": "https://localhost:8080/",
          "height": 187
        },
        "outputId": "0a84916b-b89a-405d-9f7e-f61fac86a5c1"
      },
      "source": [
        "show_lemma(doc)"
      ],
      "execution_count": 20,
      "outputs": [
        {
          "output_type": "stream",
          "text": [
            "I            PRON       561228191312463089     -PRON-    \n",
            "am           VERB       10382539506755952630   be        \n",
            "learning     VERB       9664905639869093544    learn     \n",
            "python       ADV        17956708691072489762   python    \n",
            ",            PUNCT      2593208677638477497    ,         \n",
            "it           PRON       561228191312463089     -PRON-    \n",
            "looks        VERB       16096726548953279178   look      \n",
            "intresting   VERB       10116009316107689841   intreste  \n",
            "to           ADP        3791531372978436496    to        \n",
            "me           PRON       561228191312463089     -PRON-    \n"
          ],
          "name": "stdout"
        }
      ]
    },
    {
      "cell_type": "code",
      "metadata": {
        "id": "94GDdEIVi_Mq",
        "colab_type": "code",
        "colab": {
          "base_uri": "https://localhost:8080/",
          "height": 54
        },
        "outputId": "d3677c27-9151-4eeb-9a35-1fb3a12da03c"
      },
      "source": [
        "print(nlp.Defaults.stop_words)"
      ],
      "execution_count": 21,
      "outputs": [
        {
          "output_type": "stream",
          "text": [
            "{'keep', 'hereupon', 'empty', 'sixty', 'mine', 'with', 'would', 'seeming', 'thence', '‘ve', '‘s', 'cannot', 'being', 'hers', 'just', 'once', 'one', 'part', 'per', 'six', 'thereafter', 'these', \"'s\", 'them', '‘re', 'however', 'go', 'often', 'not', 'really', 'see', 'onto', 'used', 'herein', 'every', 'call', 'we', 'due', 'whom', 'whether', 'eleven', 'moreover', 'whence', 'nobody', 'together', 'on', 'although', 'and', 'he', 'others', 'whereby', 'same', 'what', 'wherein', 'else', 'for', 'further', 'her', 'why', 'yourselves', 'himself', 'name', 'thereby', 'two', 'does', 'five', 'beside', 'beyond', 'get', 'in', '’m', 'hence', 'into', 'several', 'had', 'was', 'your', 'while', 'whoever', 'hereafter', 'over', 'last', 'at', 'me', 'somehow', 'doing', '’d', 'their', 'up', 'made', 'most', 'none', 'wherever', 'least', 'latterly', 'anyhow', 'meanwhile', 'whereafter', 'everywhere', 'that', 'always', 'anything', 'themselves', 'since', 'amount', 'yours', 'make', 'thereupon', 'each', 'upon', 'whose', 'some', 'put', 'mostly', 'except', 'anywhere', 'ever', 'move', \"n't\", 'bottom', 'there', 'a', 'show', 'myself', 'did', 'then', 'former', 'be', 'something', 'quite', 'above', 'ourselves', 'are', 'become', 'no', 'sometimes', 'noone', 'very', 'yourself', 'already', 'regarding', 'ca', 'our', 'somewhere', 'you', 'have', 'am', 'yet', 'less', 'everything', 'it', 'when', 'i', 'who', \"'m\", 'ten', 'through', 'many', 'though', 'give', 'otherwise', 'seemed', 'side', 'becomes', 'hundred', 'serious', 'before', 'do', 'throughout', 'will', 'should', 'has', 'whereupon', 'if', 'is', 'afterwards', 'towards', 'whole', 'much', 'against', 'third', 'below', 'done', 'must', 'elsewhere', 'never', 're', 'too', 'whatever', 'another', 'than', 'n‘t', 'now', 'seem', 'more', 'can', 'him', 'from', 'any', 'whenever', 'also', 'about', 'here', 'between', 'she', 'toward', 'within', 'how', 'using', 'around', 'either', 'my', 'thru', '’s', 'formerly', 'nor', 'or', 'off', 'own', 'beforehand', 'eight', 'whither', 'among', 'besides', 'herself', 'perhaps', 'such', 'becoming', 'hereby', 'via', 'across', 'all', 'therein', 'because', '‘d', 'anyone', 'been', 'forty', 'anyway', 'top', 'everyone', 'first', 'could', 'please', 'to', 'which', 'few', 'after', 'down', 'front', 'out', 'other', 'seems', 'well', 'again', 'various', 'were', \"'ll\", 'next', 'itself', 'without', '‘ll', 'fifty', 'back', 'ours', 'n’t', 'along', 'take', 'amongst', 'under', 'sometime', 'those', 'of', 'this', 'unless', 'whereas', '’ve', 'fifteen', 'during', 'but', 'twelve', 'twenty', 'by', 'say', 'thus', 'alone', 'behind', 'full', 'might', 'they', 'may', 'almost', 'his', 'even', 'its', 'rather', 'the', 'indeed', 'latter', 'someone', 'three', 'namely', 'an', 'became', 'still', 'where', \"'d\", '’ll', 'nine', 'so', 'us', 'four', 'both', 'nevertheless', 'nowhere', 'therefore', 'until', '‘m', 'as', 'nothing', \"'re\", '’re', 'enough', \"'ve\", 'only', 'neither'}\n"
          ],
          "name": "stdout"
        }
      ]
    },
    {
      "cell_type": "code",
      "metadata": {
        "id": "Xt5g5aREjKzD",
        "colab_type": "code",
        "colab": {
          "base_uri": "https://localhost:8080/",
          "height": 34
        },
        "outputId": "743a8f6b-4626-4b44-864e-2306851ab51c"
      },
      "source": [
        "len(nlp.Defaults.stop_words)"
      ],
      "execution_count": 22,
      "outputs": [
        {
          "output_type": "execute_result",
          "data": {
            "text/plain": [
              "326"
            ]
          },
          "metadata": {
            "tags": []
          },
          "execution_count": 22
        }
      ]
    },
    {
      "cell_type": "code",
      "metadata": {
        "id": "xV04CfpejUa0",
        "colab_type": "code",
        "colab": {}
      },
      "source": [
        "nlp.Defaults.stop_words.add('Ram')"
      ],
      "execution_count": 0,
      "outputs": []
    },
    {
      "cell_type": "code",
      "metadata": {
        "id": "prllII1Bjcib",
        "colab_type": "code",
        "colab": {}
      },
      "source": [
        "nlp.vocab['Ram'].is_stop = True"
      ],
      "execution_count": 0,
      "outputs": []
    },
    {
      "cell_type": "code",
      "metadata": {
        "id": "HTLnbWPRjmEZ",
        "colab_type": "code",
        "colab": {
          "base_uri": "https://localhost:8080/",
          "height": 34
        },
        "outputId": "8af3aef9-a366-4f83-9489-07284bbfdf6d"
      },
      "source": [
        "len(nlp.Defaults.stop_words)"
      ],
      "execution_count": 25,
      "outputs": [
        {
          "output_type": "execute_result",
          "data": {
            "text/plain": [
              "327"
            ]
          },
          "metadata": {
            "tags": []
          },
          "execution_count": 25
        }
      ]
    },
    {
      "cell_type": "code",
      "metadata": {
        "id": "u_MH23qnjp3c",
        "colab_type": "code",
        "colab": {}
      },
      "source": [
        "nlp.Defaults.stop_words.remove('Ram')"
      ],
      "execution_count": 0,
      "outputs": []
    },
    {
      "cell_type": "code",
      "metadata": {
        "id": "Ph2KVMnJjyh-",
        "colab_type": "code",
        "colab": {}
      },
      "source": [
        "nlp.vocab['Ram'].is_stop = False"
      ],
      "execution_count": 0,
      "outputs": []
    },
    {
      "cell_type": "code",
      "metadata": {
        "id": "rj7CJm_ekAkD",
        "colab_type": "code",
        "colab": {
          "base_uri": "https://localhost:8080/",
          "height": 34
        },
        "outputId": "fe796e1f-a02e-40e0-c101-4d70fd5b1d3c"
      },
      "source": [
        "len(nlp.Defaults.stop_words)"
      ],
      "execution_count": 28,
      "outputs": [
        {
          "output_type": "execute_result",
          "data": {
            "text/plain": [
              "326"
            ]
          },
          "metadata": {
            "tags": []
          },
          "execution_count": 28
        }
      ]
    },
    {
      "cell_type": "code",
      "metadata": {
        "id": "ccztXQD3kFit",
        "colab_type": "code",
        "colab": {}
      },
      "source": [
        "from spacy.matcher import Matcher "
      ],
      "execution_count": 0,
      "outputs": []
    },
    {
      "cell_type": "code",
      "metadata": {
        "id": "UJ7ms-bIkTxX",
        "colab_type": "code",
        "colab": {}
      },
      "source": [
        "matcher = Matcher(nlp.vocab)"
      ],
      "execution_count": 0,
      "outputs": []
    },
    {
      "cell_type": "code",
      "metadata": {
        "id": "NJcSRDiSkYEB",
        "colab_type": "code",
        "colab": {}
      },
      "source": [
        "pattern1 = [{'LOWER':'solarpower'}]\n",
        "pattern2 = [{'LOWER':'solar'},{'is_punct':True},{'LOWER':'power'}]\n",
        "pattern3 = [{'LOWER':'solar'},{'LOWER':'power'}]\n",
        "matcher.add('solarpower',None,pattern1,pattern2,pattern3)"
      ],
      "execution_count": 0,
      "outputs": []
    },
    {
      "cell_type": "code",
      "metadata": {
        "id": "jG0YSlEJln2r",
        "colab_type": "code",
        "colab": {}
      },
      "source": [
        "doc = nlp(u'The Solar Power industry continues to grow as demand \\\n",
        "for solarpower increases. Solar-power cars are gaining popularity.')"
      ],
      "execution_count": 0,
      "outputs": []
    },
    {
      "cell_type": "code",
      "metadata": {
        "id": "CFiMI0NQmo97",
        "colab_type": "code",
        "colab": {
          "base_uri": "https://localhost:8080/",
          "height": 34
        },
        "outputId": "1cb17293-3a6b-460d-dd7a-f072d32b3d59"
      },
      "source": [
        "found_matches = matcher(doc)\n",
        "print(found_matches)"
      ],
      "execution_count": 33,
      "outputs": [
        {
          "output_type": "stream",
          "text": [
            "[(5703546853475899243, 1, 3), (5703546853475899243, 10, 11), (5703546853475899243, 13, 16)]\n"
          ],
          "name": "stdout"
        }
      ]
    },
    {
      "cell_type": "code",
      "metadata": {
        "id": "RnVtwFKgmzfV",
        "colab_type": "code",
        "colab": {
          "base_uri": "https://localhost:8080/",
          "height": 68
        },
        "outputId": "b7f667cc-6b93-448e-ce89-7c30712043ac"
      },
      "source": [
        "for match_id, start, end in found_matches:\n",
        "  string_id=nlp.vocab.strings[match_id]\n",
        "  span = doc[start:end]\n",
        "  print(match_id,string_id,start,end,span.text)"
      ],
      "execution_count": 34,
      "outputs": [
        {
          "output_type": "stream",
          "text": [
            "5703546853475899243 solarpower 1 3 Solar Power\n",
            "5703546853475899243 solarpower 10 11 solarpower\n",
            "5703546853475899243 solarpower 13 16 Solar-power\n"
          ],
          "name": "stdout"
        }
      ]
    },
    {
      "cell_type": "code",
      "metadata": {
        "id": "Iz-4-vuwnrgs",
        "colab_type": "code",
        "colab": {}
      },
      "source": [
        "def read_file(filepath):\n",
        "  with open(filepath) as f:\n",
        "    str_text = f.read()\n",
        "    \n",
        "  return str_text"
      ],
      "execution_count": 0,
      "outputs": []
    },
    {
      "cell_type": "code",
      "metadata": {
        "id": "bSCQX2DpsMon",
        "colab_type": "code",
        "colab": {}
      },
      "source": [
        "def seperate_punct(doc_text):\n",
        "  return(token.text.lower() for token in nlp(doc_text) if token.text not in '') "
      ],
      "execution_count": 0,
      "outputs": []
    },
    {
      "cell_type": "code",
      "metadata": {
        "id": "WaM5zI_zs1wy",
        "colab_type": "code",
        "colab": {}
      },
      "source": [
        "with open(filename) as f:\n",
        "  doc = nlp(f.read())"
      ],
      "execution_count": 0,
      "outputs": []
    }
  ]
}